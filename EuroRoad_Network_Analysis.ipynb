{
  "nbformat": 4,
  "nbformat_minor": 0,
  "metadata": {
    "colab": {
      "name": "EuroRoad - Network Analysis.ipynb",
      "provenance": [],
      "collapsed_sections": [],
      "authorship_tag": "ABX9TyMGP+sQuJT/2xadpITvkyuj",
      "include_colab_link": true
    },
    "kernelspec": {
      "name": "python3",
      "display_name": "Python 3"
    }
  },
  "cells": [
    {
      "cell_type": "markdown",
      "metadata": {
        "id": "view-in-github",
        "colab_type": "text"
      },
      "source": [
        "<a href=\"https://colab.research.google.com/github/vitorgaboardi/data-science/blob/master/EuroRoad_Network_Analysis.ipynb\" target=\"_parent\"><img src=\"https://colab.research.google.com/assets/colab-badge.svg\" alt=\"Open In Colab\"/></a>"
      ]
    },
    {
      "cell_type": "markdown",
      "metadata": {
        "id": "mfCWkLOl0lck"
      },
      "source": [
        "Projeto de Análise de Redes - Rodovias da Europa\n",
        "\n",
        "Base de dados disponível em: https://networks.skewed.de/net/euroroad"
      ]
    },
    {
      "cell_type": "markdown",
      "metadata": {
        "id": "IIqqOeq6AQHa"
      },
      "source": [
        "# 1.0 - Processando uma base de dados e salvando um arquivo graphml"
      ]
    },
    {
      "cell_type": "markdown",
      "metadata": {
        "id": "n4rjrrd70xyg"
      },
      "source": [
        "Importando as bibliotecas necessárias"
      ]
    },
    {
      "cell_type": "code",
      "metadata": {
        "id": "inkOKMec1GNs"
      },
      "source": [
        "import networkx as nx\n",
        "import matplotlib.pyplot as plt\n",
        "import csv\n",
        "import pandas as pd"
      ],
      "execution_count": 153,
      "outputs": []
    },
    {
      "cell_type": "markdown",
      "metadata": {
        "id": "rX9NzHi81pjP"
      },
      "source": [
        "Inicialmente, vamos carregar os arquivos csv como Dataframes no pandas"
      ]
    },
    {
      "cell_type": "code",
      "metadata": {
        "id": "DdpI52P01Xe9"
      },
      "source": [
        "edges = pd.read_csv(\"edges.csv\")\n",
        "nodes = pd.read_csv(\"nodes.csv\")"
      ],
      "execution_count": 154,
      "outputs": []
    },
    {
      "cell_type": "code",
      "metadata": {
        "colab": {
          "base_uri": "https://localhost:8080/",
          "height": 206
        },
        "id": "ab9BwUQ23UcF",
        "outputId": "12dc9906-59d4-4828-9946-4f4f70f98d7e"
      },
      "source": [
        "edges = edges.rename(columns={\"# source\": \"source\",' target':'target'})\n",
        "edges.head()"
      ],
      "execution_count": 155,
      "outputs": [
        {
          "output_type": "execute_result",
          "data": {
            "text/html": [
              "<div>\n",
              "<style scoped>\n",
              "    .dataframe tbody tr th:only-of-type {\n",
              "        vertical-align: middle;\n",
              "    }\n",
              "\n",
              "    .dataframe tbody tr th {\n",
              "        vertical-align: top;\n",
              "    }\n",
              "\n",
              "    .dataframe thead th {\n",
              "        text-align: right;\n",
              "    }\n",
              "</style>\n",
              "<table border=\"1\" class=\"dataframe\">\n",
              "  <thead>\n",
              "    <tr style=\"text-align: right;\">\n",
              "      <th></th>\n",
              "      <th>source</th>\n",
              "      <th>target</th>\n",
              "    </tr>\n",
              "  </thead>\n",
              "  <tbody>\n",
              "    <tr>\n",
              "      <th>0</th>\n",
              "      <td>0</td>\n",
              "      <td>1</td>\n",
              "    </tr>\n",
              "    <tr>\n",
              "      <th>1</th>\n",
              "      <td>1</td>\n",
              "      <td>2</td>\n",
              "    </tr>\n",
              "    <tr>\n",
              "      <th>2</th>\n",
              "      <td>1</td>\n",
              "      <td>16</td>\n",
              "    </tr>\n",
              "    <tr>\n",
              "      <th>3</th>\n",
              "      <td>2</td>\n",
              "      <td>3</td>\n",
              "    </tr>\n",
              "    <tr>\n",
              "      <th>4</th>\n",
              "      <td>3</td>\n",
              "      <td>4</td>\n",
              "    </tr>\n",
              "  </tbody>\n",
              "</table>\n",
              "</div>"
            ],
            "text/plain": [
              "   source  target\n",
              "0       0       1\n",
              "1       1       2\n",
              "2       1      16\n",
              "3       2       3\n",
              "4       3       4"
            ]
          },
          "metadata": {
            "tags": []
          },
          "execution_count": 155
        }
      ]
    },
    {
      "cell_type": "code",
      "metadata": {
        "colab": {
          "base_uri": "https://localhost:8080/",
          "height": 206
        },
        "id": "ILaI65xD3W4I",
        "outputId": "5025326f-b868-4738-cf30-3b85b20c67c1"
      },
      "source": [
        "nodes = nodes.rename(columns={\"# index\": \"index\",' meta': 'meta',' _pos':'pos'})\n",
        "nodes.head()"
      ],
      "execution_count": 156,
      "outputs": [
        {
          "output_type": "execute_result",
          "data": {
            "text/html": [
              "<div>\n",
              "<style scoped>\n",
              "    .dataframe tbody tr th:only-of-type {\n",
              "        vertical-align: middle;\n",
              "    }\n",
              "\n",
              "    .dataframe tbody tr th {\n",
              "        vertical-align: top;\n",
              "    }\n",
              "\n",
              "    .dataframe thead th {\n",
              "        text-align: right;\n",
              "    }\n",
              "</style>\n",
              "<table border=\"1\" class=\"dataframe\">\n",
              "  <thead>\n",
              "    <tr style=\"text-align: right;\">\n",
              "      <th></th>\n",
              "      <th>index</th>\n",
              "      <th>meta</th>\n",
              "      <th>pos</th>\n",
              "    </tr>\n",
              "  </thead>\n",
              "  <tbody>\n",
              "    <tr>\n",
              "      <th>0</th>\n",
              "      <td>0</td>\n",
              "      <td>Greenock</td>\n",
              "      <td>array([1.69563397, 2.90766292])</td>\n",
              "    </tr>\n",
              "    <tr>\n",
              "      <th>1</th>\n",
              "      <td>1</td>\n",
              "      <td>Glasgow</td>\n",
              "      <td>array([1.73869647, 2.89200537])</td>\n",
              "    </tr>\n",
              "    <tr>\n",
              "      <th>2</th>\n",
              "      <td>2</td>\n",
              "      <td>Preston</td>\n",
              "      <td>array([1.71884408, 2.8463844 ])</td>\n",
              "    </tr>\n",
              "    <tr>\n",
              "      <th>3</th>\n",
              "      <td>3</td>\n",
              "      <td>Birmingham</td>\n",
              "      <td>array([1.71876562, 2.79931827])</td>\n",
              "    </tr>\n",
              "    <tr>\n",
              "      <th>4</th>\n",
              "      <td>4</td>\n",
              "      <td>Southampton</td>\n",
              "      <td>array([1.68482611, 2.77194074])</td>\n",
              "    </tr>\n",
              "  </tbody>\n",
              "</table>\n",
              "</div>"
            ],
            "text/plain": [
              "   index         meta                              pos\n",
              "0      0     Greenock  array([1.69563397, 2.90766292])\n",
              "1      1      Glasgow  array([1.73869647, 2.89200537])\n",
              "2      2      Preston  array([1.71884408, 2.8463844 ])\n",
              "3      3   Birmingham  array([1.71876562, 2.79931827])\n",
              "4      4  Southampton  array([1.68482611, 2.77194074])"
            ]
          },
          "metadata": {
            "tags": []
          },
          "execution_count": 156
        }
      ]
    },
    {
      "cell_type": "markdown",
      "metadata": {
        "id": "fdXVBsFZ24Gd"
      },
      "source": [
        "Formatar o Dataframe para inserir os nomes das cidades ao invés dos IDs"
      ]
    },
    {
      "cell_type": "code",
      "metadata": {
        "colab": {
          "base_uri": "https://localhost:8080/",
          "height": 206
        },
        "id": "bSb3NWOK3SQv",
        "outputId": "d52c4d93-1c3e-4710-9b2a-a8af578b5e14"
      },
      "source": [
        "# criar um dicionário que relaciona os indices com as cidades\n",
        "cities_dict = dict(zip(nodes.index, nodes.meta))\n",
        "\n",
        "# mapear os nós conforme o dicionário\n",
        "edges['source'] = edges['source'].map(cities_dict)\n",
        "edges['target'] = edges['target'].map(cities_dict)\n",
        "\n",
        "edges.head()"
      ],
      "execution_count": 157,
      "outputs": [
        {
          "output_type": "execute_result",
          "data": {
            "text/html": [
              "<div>\n",
              "<style scoped>\n",
              "    .dataframe tbody tr th:only-of-type {\n",
              "        vertical-align: middle;\n",
              "    }\n",
              "\n",
              "    .dataframe tbody tr th {\n",
              "        vertical-align: top;\n",
              "    }\n",
              "\n",
              "    .dataframe thead th {\n",
              "        text-align: right;\n",
              "    }\n",
              "</style>\n",
              "<table border=\"1\" class=\"dataframe\">\n",
              "  <thead>\n",
              "    <tr style=\"text-align: right;\">\n",
              "      <th></th>\n",
              "      <th>source</th>\n",
              "      <th>target</th>\n",
              "    </tr>\n",
              "  </thead>\n",
              "  <tbody>\n",
              "    <tr>\n",
              "      <th>0</th>\n",
              "      <td>Greenock</td>\n",
              "      <td>Glasgow</td>\n",
              "    </tr>\n",
              "    <tr>\n",
              "      <th>1</th>\n",
              "      <td>Glasgow</td>\n",
              "      <td>Preston</td>\n",
              "    </tr>\n",
              "    <tr>\n",
              "      <th>2</th>\n",
              "      <td>Glasgow</td>\n",
              "      <td>Edinburgh</td>\n",
              "    </tr>\n",
              "    <tr>\n",
              "      <th>3</th>\n",
              "      <td>Preston</td>\n",
              "      <td>Birmingham</td>\n",
              "    </tr>\n",
              "    <tr>\n",
              "      <th>4</th>\n",
              "      <td>Birmingham</td>\n",
              "      <td>Southampton</td>\n",
              "    </tr>\n",
              "  </tbody>\n",
              "</table>\n",
              "</div>"
            ],
            "text/plain": [
              "       source       target\n",
              "0    Greenock      Glasgow\n",
              "1     Glasgow      Preston\n",
              "2     Glasgow    Edinburgh\n",
              "3     Preston   Birmingham\n",
              "4  Birmingham  Southampton"
            ]
          },
          "metadata": {
            "tags": []
          },
          "execution_count": 157
        }
      ]
    },
    {
      "cell_type": "markdown",
      "metadata": {
        "id": "lz-FdHRy89z5"
      },
      "source": [
        "Criar o grafo a partir do DataFrame do pandas"
      ]
    },
    {
      "cell_type": "code",
      "metadata": {
        "colab": {
          "base_uri": "https://localhost:8080/"
        },
        "id": "Jzz1ddNA9CUc",
        "outputId": "38f24c8c-afeb-4231-e75f-36d4859e1fbb"
      },
      "source": [
        "G = nx.Graph()\n",
        "G = nx.from_pandas_edgelist(edges, 'source', 'target')\n",
        "print(G.nodes())\n",
        "print(nx.number_of_nodes(G))"
      ],
      "execution_count": 158,
      "outputs": [
        {
          "output_type": "stream",
          "text": [
            "['Greenock', 'Glasgow', 'Preston', 'Edinburgh', 'Birmingham', 'Southampton', 'Cambridge', 'Le Havre', 'Paris', 'Amiens', 'Orléans', 'Calais', 'Lyon', 'Brussels', 'Le Mans', 'Reims', 'Chaumont', 'Bordeaux', 'Tours', 'Montargis', 'Toulouse', 'San Sebastián', 'Clermont-Ferrand', 'Angoulême', 'Burgos', 'Bilbao', 'Madrid', 'Valladolid', 'Seville', 'Barcelona', 'Valencia', 'Lisbon', 'Algeciras', 'Huelva', 'Mérida', 'Málaga', 'Inverness', 'Perth', 'Newcastle', 'London', 'Carlisle', 'Folkestone', 'Bristol', 'Colchester', 'Northampton', 'Dover', 'Bruges', 'Rouen', 'Orange', 'Chambéry', \"Pont-d'Ain\", 'Grenoble', 'Narbonne', 'Marseille', 'Girona', 'Tarragona', 'Castellón de la Plana', 'Alicante', 'Murcia', 'Almería', 'Granada', 'Hook of Holland', 'Rotterdam', 'The Hague', 'Eindhoven', 'Ludwigshafen', 'Maastricht', 'Antwerp', 'Venlo', 'Breda', 'Liège', 'Bastogne', 'Leuven', 'Eupen', 'Namur', 'St. Vith', 'Charleville-Mézières', 'Arlon', 'Luxembourg', 'Metz', 'Trier', 'Saint-Avold', 'Lausanne', 'Geneva', 'Saarbrücken', 'Strasbourg', 'Mulhouse', 'Appenweier', 'Basel', 'Belfort', 'Remiremont', 'Olten', 'Offenburg', 'Zürich', 'Waldshut', 'Bern', 'Lucerne', 'Martigny', 'Mont Blanc', 'Mâcon', 'Aosta', 'Ivrea', 'Vercelli', 'Turin', 'Alessandria', 'Genoa', 'Tortona', 'Asti', 'Rome', 'Nice', 'Bastia', 'Porto-Vecchio', 'Bonifacio', 'Porto Torres', 'Sassari', 'Cagliari', 'Olbia', 'Amsterdam', 'Utrecht', 'Amersfoort', 'Groningen', 'Arnhem', 'Gouda', 'Gorinchem', 'Emmerich', 'Oberhausen', 'Cologne', 'Dortmund', 'Frankfurt am Main', 'Aachen', 'Olpe', 'Sarreguemines', 'Bremen', 'Heidelberg', 'Gießen', 'Mannheim', 'Aschaffenburg', 'Wiesbaden', 'Karlsruhe', 'Stuttgart', 'Donaueschingen', 'Altdorf', 'Gotthard Pass', 'Bellinzona', 'Lugano', 'San Bernardino', 'Chiasso', 'Como', 'Milan', 'Piacenza', 'Brescia', 'Gravellona Toce', 'Parma', 'Modena', 'La Spezia', 'Florence', 'Verona', 'Bologna', 'Migliarino', 'Pescara', 'San Cesareo', 'Karesuvanto', 'Karesuando', 'Arvidsjaur', 'Östersund', 'Mora', 'Trondheim', 'Sundsvall', 'Säffle', 'Gothenburg', 'Halmstad', 'Örebro', 'Oslo', 'Frederikshavn', 'Aalborg', 'Aarhus', 'Nørresundby', 'Vejle', 'Kolding', 'Flensburg', 'Hamburg', 'Hanover', 'Berlin', 'Lübeck', 'Göttingen', 'Bad Oeynhausen', 'Braunschweig', 'Kassel', 'Fulda', 'Würzburg', 'Nuremberg', 'Ulm', 'Munich', 'Heilbronn', 'Rozvadov', 'Bayreuth', 'Regensburg', 'Rosenheim', 'Salzburg', 'Lindau', 'Deggendorf', 'Garmisch-Partenkirchen', 'Braunau am Inn', 'Wörgl', 'Bad Reichenhall', 'Innsbruck', 'St. Johann in Tirol', 'Brenner', 'Telfs', 'Lauterach', 'Imst', 'Seefeld', 'Fortezza', 'Bolzano', 'Innichen', 'Trento', 'Mestre', 'Cesena', 'Perugia', 'Ravenna', 'Rimini', 'Fiano Romano', 'Naples', 'Salerno', 'Avellino', 'Sicignano degli Alburni', 'Cosenza', 'Potenza', 'Villa San Giovanni', 'Crotone', 'Messina', 'Catania', 'Palermo', 'Siracusa', 'Enna', 'Gela', 'Mazara del Vallo', 'Helsingør', 'Copenhagen', 'Køge', 'Malmö', 'Esbjerg', 'Vordingborg', 'Farø', 'Nykøbing Falster', 'Rødby', 'Gedser', 'Rostock', 'Sassnitz', 'Lübbenau', 'Szczecin', 'Świebodzin', 'Magdeburg', 'Leipzig', 'Neubrandenburg', 'Dresden', 'Cottbus', 'Ústí nad Labem', 'Chemnitz', 'Görlitz', 'Prague', 'Tábor', 'Mladá Boleslav', 'Jihlava', 'Plzeň', 'Karlovy Vary', 'Hradec Králové', 'Linz', 'Sattledt', 'Sankt Pölten', 'Wels', 'Villach', 'Lofer', 'Tarvisio', 'Karavanke Tunnel', 'Spittal an der Drau', 'Klagenfurt', 'Udine', 'Palmanova', 'Trieste', 'Fano', 'Ancona', 'Sansepolcro', 'Canosa di Puglia', 'Bari', 'Benevento', 'Brindisi', 'Taranto', 'Igoumenitsa', 'Preveza', 'Ioannina', 'Rhion', 'Patras', 'Aigio', 'Pyrgos', 'Kalamata', 'Tripoli', 'Ystad', 'Helsingborg', 'Trelleborg', 'Kalmar', 'Świnoujście', 'Wolin', 'Goleniów', 'Koszalin', 'Gorzów Wielkopolski', 'Zielona Góra', 'Poznań', 'Legnica', 'Jelenia Góra', 'Wrocław', 'Harrachov', 'Železný Brod', 'Turnov', 'Teplice', 'Brno', 'Vienna', 'Bratislava', 'Trenčín', 'Olomouc', 'Svitavy', 'Rajka', 'Žilina', 'Győr', 'Zvolen', 'Dunajská Streda', 'Csorna', 'Szombathely', 'Zalaegerszeg', 'Nagykanizsa', 'Letenye', 'Zagreb', 'Balatonvilágos', 'Torniyiszentmiklós', 'Karlovac', 'Ljubljana', 'Slavonski Brod', 'Maribor', 'Rijeka', 'Knin', 'Split', 'Pula', 'Dubrovnik', 'Petrovac', 'Podgorica', 'Prizren', 'Bijelo Polje', 'Pristina', 'Sarajevo', 'Nova Varoš', 'Skopje', 'Niš', 'Kičevo', 'Kumanovo', 'Veles', 'Ohrid', 'Bitola', 'Niki', 'Vevi', 'Kozani', 'Larissa', 'Thessaloniki', 'Domokos', 'Lamia', 'Katerini', 'Trikala', 'Volos', 'Brallos', 'Athens', 'Karpenisi', 'Itea', 'Antirrio', 'Corinth', 'Megara', 'Sparti', 'Kissamos', 'Chania', 'Heraklion', 'Vardø', 'Vadsø', 'Varangerbotn', 'Utsjoki', 'Kirkenes', 'Karasjok', 'Inari', 'Ivalo', 'Sodankylä', 'Rovaniemi', 'Kemijärvi', 'Kemi', 'Oulu', 'Tornio', 'Jyväskylä', 'Kokkola', 'Heinola', 'Kuopio', 'Tampere', 'Lahti', 'Helsinki', 'Hämeenlinna', 'Turku/Naantali', 'Kotka', 'Gdańsk', 'Świecie', 'Kaliningrad', 'Elbląg', 'Gdynia', 'Łódź', 'Piotrków Trybunalski', 'Katowice', 'Warsaw', 'Zabrze', 'Kraków', 'Český Těšín', 'Budapest', 'Vámosszabadi', 'Szeged', 'Mosonmagyaróvár', 'Szolnok', 'Miskolc', 'Szekszárd', 'Subotica', 'Arad', 'Novi Sad', 'Sombor', 'Belgrade', 'Vršac', 'Čačak', 'Drobeta-Turnu Severin', 'Sofia', 'Kyustendil', 'Gevgelija', 'Evzoni', 'Alexandroupoli', 'Serres', 'Agios Nikolaos', 'Sitia', 'Klaipėda', 'Kaunas', 'Palanga', 'Vilnius', 'Riga', 'Ukmergė', 'Lida', 'Minsk', 'Marijampolė', 'Slonim', 'Kobryn', 'Dubno', 'Ternopil', 'Chernivtsi', 'Stryj', 'Khmelnytskyi', 'Siret', 'Suceava', 'Roman', 'Halmeu', 'Iaşi', 'Urziceni', 'Bucharest', 'Slobozia', 'Giurgiu', 'Ploieşti', 'Constanţa', 'Alexandria', 'Piteşti', 'Ruse', 'Byala', 'Razgrad', 'Veliko Tarnovo', 'Pleven', 'Stara Zagora', 'Shumen', 'Yablanitsa', 'Haskovo', 'Burgas', 'Popovica', 'Svilengrad', 'Ormenio', 'Kastanies', 'Didymoteicho', 'Gelibolu', 'Saint Petersburg', 'Pskov', 'Moscow', 'Petrozavodsk', 'Narva', 'Vyborg', 'Gomel', 'Kiev', 'Babruysk', 'Odessa', 'Hlukhiv', 'Kharkiv', 'Rivne', 'Zhytomyr', 'Izmail', 'Chişinău', 'Mykolaiv', 'Samsun', 'Merzifon', 'Ordu', 'Kaluga', 'Orel', 'Yaroslavl', 'Voronezh', 'Tambov', 'Smolensk', 'Ryazan', 'Velikiye Luki', 'Vladimir', 'Bryansk', 'Kursk', 'Murmansk', 'Simferopol', 'Luhansk', 'Alushta', 'Yalta', 'Novorossiysk', 'Saratov', 'Dzhankoy', 'Sochi', 'Mineralnye Vody', 'Nalchik', 'Makhachkala', 'Armavir', 'Vladikavkaz', 'Stepantsminda', 'Mtskheta', 'Tbilisi', 'Marneuli', 'Gori', 'Rustavi', 'Bolnisi', 'Sadakhlo', 'Yerevan', 'Goris', 'Megri', 'Povorino', 'Volgograd', 'Astrakhan', 'Atyrau', 'Kuba', 'Baku', 'Alyat', 'Yevlakh', 'Astara', 'Saatly Rayon', 'Samara', 'Oral', 'Penza', 'Ufa', 'Aktobe', 'Beineu', 'Beyneu', 'Shetpe', 'Zhetybai', 'Fetisovo', 'Bekdash', 'Türkmenbaşy', 'Gyzylarbat', 'Ashgabat', 'Chelyabinsk', 'Kostanay', 'Kurgan', 'Esil', 'Derzhavinsk', 'Arkalyk', 'Jezkazgan', 'Kyzylorda', 'Karaganda', 'Shymkent', 'Novokazalinsk', 'Tashkent', 'Zhambyl', 'Ayni', 'Jizzakh', 'Kokand', 'Dushanbe', 'Panji Poyon', 'Termez', 'Jirgatal', 'Kulob', 'Ishim', 'Astana', 'Omsk', 'Tyumen', 'Atbasar', 'Balkhash', 'Pavlodar', 'Burubaytal', 'Almaty', 'Bishkek', 'Sary-Ozek', 'Kokpek', 'Naryn', 'Osh', 'Torugart Pass', 'Semey', 'Uspenovka', 'Georgiyevka', 'Maikapshagai', 'Ayagoz', 'Oskemen', 'Å', 'Svolvær', 'Melbu', 'Sortland', 'Lødingen', 'Evenes', 'Narvik', 'Kiruna', 'Ballangen', 'Setermoen', 'Töre', 'Luleå', 'Umeå', 'Haparanda', 'Shannon', 'Limerick', 'Dublin', 'Rosslare', 'Drogheda', 'Liverpool', 'Manchester', 'Leeds', 'Warrington', 'Kingston upon Hull', 'Doncaster', 'Jönköping', 'Stockholm', 'Karlstad', 'Västerås', 'Södertälje', 'Uppsala', 'Tallinn', 'Tartu', 'Keila', 'Cork', 'Waterford', 'Portlaoise', 'Wexford', 'Fishguard', 'Swansea', 'Bridgend', 'Cardiff', 'Newport', 'Ipswich', 'Harwich', 'Felixstowe', 'Oldenzaal', 'Hoogeveen', 'Osnabrück', 'Halle', 'Brest', 'Radom', 'Lublin', 'Rennes', 'Lorient', 'Yelabuga', 'Ghent', 'Zeebrugge', 'Roeselare', 'Hasselt', 'Eynatten', 'Heerlen', 'Wetzlar', 'Koblenz', 'Bad Hersfeld', 'Eisenach', 'Erfurt', 'Gera', 'Hirschberg', 'Plauen', 'Opole', 'Kłodzko', 'Gliwice', 'Rzeszów', 'Trstená', 'Jarosław', 'Barwinek', 'Korczowa', 'Lviv', 'Mukachevo', 'Kovel', 'Vinnytsia', 'Qo‘ng‘irot', 'Nukus', 'Daşoguz', 'Bukhara', 'Uchkuduk', 'Navoiy', 'Alat', 'Karshi', 'Samarkand', 'Guza', 'Taldykorgan', 'Koktal', 'Ucharal', 'Taskesken', 'Bakhty', 'Ridder', 'Angers', 'Charleroi', 'České Budějovice', 'Bayerisch Eisenstein', 'Prešov', 'Žiar nad Hronom', 'Košice', 'Svidník', 'Vyšné Nemecké', 'Uzhhorod', 'Chop', 'Uman', 'Mohyliv-Podilskyi', 'Kirovohrad', 'Dnipropetrovsk', 'Poltava', 'Donetsk', 'Rostov-on-Don', 'Taganrog', 'Vannes', 'Nantes', 'Poitiers', 'Vierzon', 'Auxerre', 'Beaune', 'Dole', 'Besançon', 'Winterthur', 'St. Gallen', 'Schaffhausen', 'St. Margrethen', 'Bregenz', 'Buchs', 'Feldkirch', 'Landeck', 'Liezen', 'Nickelsdorf', 'Halámky', 'Graz', 'Püspökladány', 'Oradea', 'Nyíregyháza', 'Cluj-Napoca', 'Berettyóújfalu', 'Beiuş', 'Satu Mare', 'Turda', 'Zalău', 'Dej', 'Târgu Mureş', 'Sebeş', 'Braşov', 'Sibiu', 'Bacău', 'Buzău', 'Hârşova', 'Galaţi', 'Agigea', 'Varna', 'Tulcea', 'Negru Vodă', 'Poti', 'Senaki', 'Batumi', 'Samtredia', 'Zugdidi', 'Kutaisi', 'Lanchkhuti', 'Khashuri', 'Ganja', 'Tejen', 'Gaudan', 'Mary', 'Türkmenabat', 'Guzar', 'Sherobod', 'Sary Tash', 'Khorugh', 'Irkeshtam', 'A Coruña', 'Pontevedra', 'Logroño', 'Montluçon', 'Montpellier', 'Susa', 'Savona', 'Postojna', 'Naklo', 'Timişoara', 'Craiova', 'Târgu Jiu', 'Calafat', 'Giresun', 'Trabzon', 'Porto', 'Albufeira', 'Cuneo', 'Plovdiv', 'Botevgrad', 'Blagoevgrad', 'Istanbul', 'İzmit', 'Gerede', 'Bursa', 'Amasya', 'Kızılcahamam', 'Erzurum', 'Gürbulak', 'Iran', 'Reggio Calabria', 'Metaponto', 'Arta', 'Keşan', 'Ayvalık', 'Lapseki', 'Ankara', 'Balıkesir', 'Adana', 'Yozgat', 'Nusaybin', 'Khabur River', 'Iraq', 'Larne', 'Belfast', 'Newry', 'Derry', 'Craigavon', 'Dundalk', 'Valença', 'Vila Real', 'Castro Marim', 'Cherbourg-Octeville', 'La Rochelle', 'Caen', 'Niort', 'Saintes', 'Hamar', 'Sandvika', 'Drammen', 'Askim', 'Lillehammer', 'Dombås', 'Åndalsnes', 'Stjørdal', 'Orkanger', 'Steinkjer', 'Mosjøen', 'Mo i Rana', 'Rognan', 'Fauske', 'Alta', 'Olderfjord', 'Lakselv', 'Nordkapp', 'Pau, Pyrénées-Atlantiques', 'Jaca', 'Zaragoza', 'Sheffield', 'Immingham', 'Nottingham', 'Leicester', 'Sion', 'Bremerhaven', 'Walsrode', 'Vinjeøra', 'Halsa', 'Straumsnes', 'Kristiansund Mainland Connection', 'Batnfjordsøra', 'Molde', 'Vestnes', 'Skodje', 'Ålesund', 'Volda', 'Tresfjord', 'Nordfjordeid', 'Sandane', 'Førde', 'Lavik', 'Instefjord', 'Knarvik', 'Bergen', 'Os', 'Arna', 'Stord', 'Sveio', 'Aksdal', 'Bokn', 'Rennesøy', 'Randaberg', 'Stavanger', 'Sandnes', 'Helleland', 'Flekkefjord', 'Lyngdal', 'Mandal', 'Kristiansand', 'Arendal', 'Hirtshals', 'Hjørring', 'Chur', 'Puttgarden', 'Oldenburg in Holstein', 'Tournai', 'Schönberg', 'Hof', 'Vojtanov', 'Cheb', 'Marktredwitz', 'Humpolec', 'Schweinfurt', 'Sankt Michael', 'Altenmarkt im Pongau', 'Spielfeld', 'Veszprém', 'Loiblpass', 'Posio', 'Kuusamo', 'Kajaani', 'Iisalmi', 'Turku', 'Vaasa', 'Pori', 'Šiauliai', 'Ventspils', 'Rēzekne', 'Kudowa-Zdrój', 'Náchod', 'Debrecen', 'Mohács', 'Osijek', 'Đakovo', 'Šamac', 'Zenica', 'Mostar', 'Donji Vakuf', 'Metković', 'Tolpaki', 'Panevėžys', 'Nesterov', 'Ružomberok', 'Deva', 'Petroşani', 'Vidin', 'Vraca', 'Jablanica', 'Reni', 'Giurgiuleşti', 'Malko Tarnovo', 'Dereköy', 'Kırklareli', 'Babaeski', 'Havsa', 'Tekirdağ', 'İzmir', 'Selçuk', 'Usak', 'Manisa', 'Çeşme', 'Aydın', 'Denizli', 'Acıpayam', 'Korkuteli', 'Antalya', 'Toprakkale', 'İskenderun', 'Antakya', 'Yayladağı', 'Syria', 'Kherson', 'Melitopol', 'Sukhumi', 'Şanlıurfa', 'Diyarbakır', 'Bitlis', 'Doğubeyazit', 'Iğdir', 'Dilucu', 'Sadarak', 'Nakhchivan', 'Linköping', 'Norrköping', 'Örnsköldsvik', 'Kolari', 'Tromsø', 'Nordkjosbotn', 'Skibotn', 'Kilpisjärvi', 'Voss', 'Lærdal', 'Tyin', 'Fagernes', 'Hønefoss', 'Stranraer', 'Gretna', 'Porsgrunn', 'Larvik', 'Sandefjord', 'Horten', 'Kongsberg', 'Stockholm/Kapellskär', 'Vaalimaa', 'Holyhead', 'Chester', 'Stralsund', 'Daugavpils', 'Ostrov', 'Nizhny Novgorod', 'Kazan', 'Perm', 'Yekaterinburg', 'Słupsk', 'Jabbeke', 'Karabutak', 'Aral', 'Dunkirk', 'Lille', 'Mons', 'Nivelles', 'Wittlich', 'Bingen', 'Saint-Brieuc', 'Passau', 'Sculeni', 'Săbăoani', 'Bălţi', 'Leuşeni', 'Simplon', 'Székesfehérvár', 'Pisa', 'Grosseto', 'Arezzo', 'Bragança', 'Viseu', 'Chaves', 'Zamora', 'Guarda', 'Tordesillas', 'Silivri', 'Kristalopigi', 'Florina', 'Vévi', 'Géfira', 'Sivas', 'Refahiye', 'Attiki Odos', 'Afyonkarahisar', 'Sivrihisar', 'Topboğazi', 'Kırıkhan', 'Reyhanlı', 'Cilvegözü', 'Bagratashen', 'Vanadzor', 'Mehgri', 'Ordubad', 'Djulfa', 'Kzylorda', 'Andijan', 'Kalaikhumb', 'Murghab', 'Ishkoshim', 'Kulma', 'Lyanga', 'China', 'Kegen', 'Chundzha', 'Tyup', 'Khorgas', 'Usharal', 'Druzhba', 'Zapadnoe', 'Zhaksy', 'Petropavl', 'Haugesund', 'Røldal', 'Haukeli', 'Seljord', 'Haselünne', 'Cloppenburg', 'Cuxhaven', 'Võru', 'Jõhvi', 'Valga', 'Luhamaa', 'Valka', 'Valmiera', 'Incukalns', 'Paldiski', 'Flushing', 'Vyšný Komárnik', 'Trosna', 'Glukhkov', 'Kortrijk', 'Courtney', 'Troyes', 'Memmingen', 'Füssen', 'Mittenwald', 'Medveďov', 'Sărăţel', 'Reghin', 'Topliţa', 'Gheorgheni', 'Miercurea-Ciuc', 'Sfântu Gheorghe', 'Chichiş', 'Tişiţa', 'Tecuci', 'Albiţa', 'Krasnodar', 'Djoubga', 'Limoges', 'Digoin', 'Chalon-sur-Saône', 'Balatonkeresztúr', 'Nagyatád', 'Barcs', 'Virovitica', 'Okučani', 'Banja Luka', 'Jajce', 'Bihać', 'Lugoj', 'Ilia', 'Kardam', 'Ashtarak', 'Gyumri', 'Ashotsk', 'Akhalkalaki', 'Akhaltsikhe', 'Vale, Georgia', 'Türkgözü', 'Posof', 'Kars', 'Horasan', 'Supsa', 'Valence', 'Koper', 'Užice', 'Kraljevo', 'Kruševac', 'Pojate', 'Paraćin', 'Zaječar', 'Coimbra', 'Verín', 'Famalicão', 'Castelo Branco', 'Portalegre', 'Abrantes', 'Évora', 'Beja', 'Ourique', 'Salamanca', 'Torres Novas', 'Spezzano Albanese', 'Sybaris', \"Sant'Eufemia Lamezia\", 'Catanzaro', 'Jaén', 'Buonfornello', 'Alcamo', 'Trapani', 'Agrinio', 'Messolonghi', 'Aktio', 'Vonitsa', 'Amfilochia', 'Gytheio', 'Eleusina', 'Thebes']\n",
            "1174\n"
          ],
          "name": "stdout"
        }
      ]
    },
    {
      "cell_type": "markdown",
      "metadata": {
        "id": "KxX-hb0GAf0O"
      },
      "source": [
        "Inserir o atributo da localização de cada nó (que representa cada cidade)"
      ]
    },
    {
      "cell_type": "code",
      "metadata": {
        "colab": {
          "base_uri": "https://localhost:8080/"
        },
        "id": "Oj-LbfOoAq04",
        "outputId": "197bc66d-7597-4185-d978-bf6dbf79e58c"
      },
      "source": [
        "#colocar o código para colocar o atributo aqui!\n",
        "G.nodes[\"London\"]"
      ],
      "execution_count": 162,
      "outputs": [
        {
          "output_type": "execute_result",
          "data": {
            "text/plain": [
              "{'x': -3775.90594, 'y': -5788.733340000001}"
            ]
          },
          "metadata": {
            "tags": []
          },
          "execution_count": 162
        }
      ]
    },
    {
      "cell_type": "code",
      "metadata": {
        "colab": {
          "base_uri": "https://localhost:8080/"
        },
        "id": "r_OTI3zyDnrV",
        "outputId": "94e25947-2f60-4942-c1df-de00d5a4eba9"
      },
      "source": [
        "# criar os vetores x, y de float em função da coluna pos (que é uma string)\n",
        "pos_string = [s[7:-2].split(', ') for s in nodes.pos.tolist()]\n",
        "x = [float(s[0])*-2000 for s in pos_string] \n",
        "y = [float(s[1])*-2000 for s in pos_string]\n",
        "\n",
        "# criação dos dicionários que relacionam as cidades com as posições x e y\n",
        "cities_pos_x = dict(zip(nodes.meta, x))\n",
        "cities_pos_y = dict(zip(nodes.meta, y))\n",
        "print(cities_pos_x)\n",
        "print(cities_pos_y)\n",
        "\n",
        "# adicionando as posições como atributos dos nós do grafo\n",
        "nx.set_node_attributes(G, cities_pos_x, \"x\")\n",
        "nx.set_node_attributes(G, cities_pos_y, \"y\")\n"
      ],
      "execution_count": 161,
      "outputs": [
        {
          "output_type": "stream",
          "text": [
            "{'Greenock': -3391.26794, 'Glasgow': -3477.39294, 'Preston': -3437.68816, 'Birmingham': -3437.5312400000003, 'Southampton': -3369.65222, 'Le Havre': -5406.590099999999, 'Paris': -5441.32, 'Orléans': -5526.94444, 'Bordeaux': -5538.011960000001, 'San Sebastián': -5586.24166, 'Burgos': -5508.3943, 'Madrid': -5408.00318, 'Seville': -5256.28242, 'Algeciras': -5107.66412, 'Inverness': -3458.50522, 'Perth': -3518.25642, 'Edinburgh': -3577.7774600000002, 'Newcastle': -3708.72526, 'London': -3775.90594, 'Folkestone': -3846.7561199999996, 'Dover': -3906.23554, 'Calais': -5301.77988, 'Lyon': -5604.74002, 'Orange': -5698.96082, 'Narbonne': -5714.11934, 'Girona': -5645.41056, 'Barcelona': -5532.75062, 'Tarragona': -5421.4833, 'Castellón de la Plana': -5328.305600000001, 'Valencia': -5272.29478, 'Alicante': -5139.8261600000005, 'Murcia': -5028.9859400000005, 'Almería': -4957.12746, 'Málaga': -4975.6465800000005, 'Hook of Holland': -4552.8429399999995, 'Rotterdam': -4679.912179999999, 'Eindhoven': -4835.1507, 'Maastricht': -4928.42764, 'Liège': -5077.4657799999995, 'Bastogne': -5115.53432, 'Arlon': -5184.4388, 'Luxembourg': -5303.23316, 'Metz': -5479.420120000001, 'Saint-Avold': -5604.72632, 'Strasbourg': -5727.5308, 'Mulhouse': -5789.80602, 'Basel': -5963.3237, 'Olten': -5971.6435, 'Bern': -5844.7696000000005, 'Lausanne': -5714.13864, 'Geneva': -5664.29568, 'Mont Blanc': -5807.3094599999995, 'Aosta': -5946.14012, 'Ivrea': -6089.73824, 'Vercelli': -6168.15472, 'Alessandria': -6277.58798, 'Genoa': -6316.39484, 'Bastia': -3277.52842, 'Porto-Vecchio': -3237.0812, 'Bonifacio': -3190.8200199999997, 'Porto Torres': -2919.33688, 'Sassari': -2986.93954, 'Cagliari': -2975.50668, 'Amsterdam': -4954.81394, 'Utrecht': -4766.143279999999, 'Arnhem': -4763.21378, 'Emmerich': -4882.143980000001, 'Oberhausen': -5017.85766, 'Cologne': -5138.92692, 'Frankfurt am Main': -5418.355799999999, 'Heidelberg': -5624.974319999999, 'Karlsruhe': -5792.79014, 'Offenburg': -5888.44012, 'Lucerne': -6091.72634, 'Altdorf': -6189.224120000001, 'Gotthard Pass': -6311.28784, 'Bellinzona': -6429.187040000001, 'Lugano': -6495.6879, 'Chiasso': -6516.687400000001, 'Como': -6496.73446, 'Milan': -6426.32874, 'Piacenza': -6583.49804, 'Parma': -6722.85712, 'Modena': -6809.73648, 'Florence': -6728.18412, 'Rome': -6598.652300000001, 'Karesuvanto': -1614.7514199999998, 'Karesuando': -1538.39874, 'Arvidsjaur': -1464.0681200000001, 'Östersund': -1397.2429, 'Mora': -1301.11668, 'Säffle': -1207.6555799999999, 'Gothenburg': -1122.22392, 'Frederikshavn': -4130.130819999999, 'Aalborg': -4210.712820000001, 'Aarhus': -4328.531940000001, 'Vejle': -4460.800520000001, 'Kolding': -4612.75976, 'Flensburg': -4783.52772, 'Hamburg': -4973.64098, 'Hanover': -5063.19358, 'Göttingen': -5183.72052, 'Kassel': -5328.8085, 'Fulda': -5566.4298, 'Würzburg': -5789.7203, 'Nuremberg': -5933.2105, 'Munich': -6193.344319999999, 'Rosenheim': -6367.91704, 'Wörgl': -6516.8110400000005, 'Innsbruck': -6605.988, 'Brenner': -6738.93752, 'Fortezza': -6839.57328, 'Bolzano': -6859.64008, 'Trento': -6850.90356, 'Verona': -6806.90612, 'Bologna': -6954.638959999999, 'Cesena': -7083.05842, 'Perugia': -7176.93916, 'Fiano Romano': -7227.0418, 'Naples': -7263.8863599999995, 'Salerno': -7306.83988, 'Sicignano degli Alburni': -7369.46724, 'Cosenza': -7473.99234, 'Villa San Giovanni': -7569.98764, 'Messina': -3959.46158, 'Catania': -3871.95058, 'Siracusa': -3834.62632, 'Gela': -3870.1832999999997, 'Helsingør': -1144.9448200000002, 'Copenhagen': -1225.4310799999998, 'Køge': -1211.35528, 'Vordingborg': -1196.08822, 'Farø': -1183.68478, 'Nykøbing Falster': -1130.47152, 'Gedser': -1095.6736199999998, 'Rostock': -4979.73632, 'Berlin': -5127.41926, 'Lübbenau': -5341.32284, 'Dresden': -5560.5394400000005, 'Ústí nad Labem': -5804.29502, 'Prague': -6053.24496, 'Tábor': -6203.5696, 'Linz': -6357.85918, 'Salzburg': -6432.98958, 'Villach': -6694.9107, 'Tarvisio': -6840.14284, 'Udine': -6953.25966, 'Palmanova': -7033.44548, 'Mestre': -6968.32092, 'Ravenna': -7038.88498, 'Rimini': -7098.55706, 'Fano': -7104.63476, 'Ancona': -6974.90866, 'Pescara': -6820.11348, 'Canosa di Puglia': -6953.53608, 'Bari': -7012.51606, 'Brindisi': -7015.85718, 'Igoumenitsa': -8680.43498, 'Preveza': -8808.231, 'Rhion': -8923.65794, 'Patras': -8938.55452, 'Pyrgos': -8982.4254, 'Kalamata': -9060.40128, 'Malmö': -1241.60234, 'Ystad': -1159.16452, 'Świnoujście': -4720.04174, 'Wolin': -4812.85084, 'Goleniów': -4931.1656, 'Szczecin': -5043.5246400000005, 'Gorzów Wielkopolski': -5124.85166, 'Świebodzin': -5232.10266, 'Zielona Góra': -5338.4798, 'Legnica': -5469.76894, 'Jelenia Góra': -5584.8627400000005, 'Harrachov': -5698.156019999999, 'Železný Brod': -5811.68964, 'Turnov': -5930.4034599999995, 'Mladá Boleslav': -6014.17612, 'Jihlava': -6240.34198, 'Brno': -6285.1079199999995, 'Bratislava': -6368.76546, 'Rajka': -6506.25934, 'Csorna': -6642.80674, 'Szombathely': -6759.73928, 'Zalaegerszeg': -6865.572539999999, 'Nagykanizsa': -6956.24132, 'Letenye': -7056.59504, 'Zagreb': -7073.40314, 'Karlovac': -7194.0479000000005, 'Rijeka': -7244.25002, 'Split': -7363.991580000001, 'Dubrovnik': -7473.7979399999995, 'Petrovac': -7534.65822, 'Podgorica': -7562.207899999999, 'Bijelo Polje': -7587.63496, 'Pristina': -7593.5413, 'Skopje': -7737.0705, 'Kičevo': -7883.174859999999, 'Ohrid': -8018.53656, 'Bitola': -8137.62468, 'Niki': -8237.18692, 'Vevi': -8315.51464, 'Kozani': -8383.08918, 'Larissa': -8501.06718, 'Domokos': -8566.559700000002, 'Lamia': -8653.4524, 'Brallos': -8746.20538, 'Itea': -8822.59442, 'Antirrio': -8889.12042, 'Aigio': -9044.953899999999, 'Corinth': -9145.82338, 'Tripoli': -9154.97532, 'Kissamos': -6178.275079999999, 'Chania': -6245.59048, 'Vardø': -3491.92308, 'Vadsø': -3541.0930399999997, 'Varangerbotn': -3591.02578, 'Utsjoki': -3422.6854000000003, 'Inari': -3254.03408, 'Ivalo': -3093.21556, 'Sodankylä': -2944.24772, 'Rovaniemi': -2827.99504, 'Kemi': -2745.1212800000003, 'Oulu': -2970.66278, 'Jyväskylä': -3176.45212, 'Heinola': -3359.7351999999996, 'Lahti': -3532.92258, 'Helsinki': -3691.7057400000003, 'Gdańsk': -5181.9442, 'Świecie': -5317.726320000001, 'Łódź': -5456.067059999999, 'Piotrków Trybunalski': -5600.27566, 'Katowice': -5868.31214, 'Žilina': -6115.84084, 'Győr': -6510.5261199999995, 'Budapest': -6660.90394, 'Szeged': -6849.635499999999, 'Subotica': -7036.44012, 'Novi Sad': -7191.58634, 'Belgrade': -7337.80602, 'Niš': -7474.12222, 'Kumanovo': -7616.92608, 'Veles': -7864.11188, 'Gevgelija': -7986.720319999999, 'Evzoni': -8101.993480000001, 'Thessaloniki': -8202.2412, 'Katerini': -8351.3266, 'Athens': -8641.78046, 'Heraklion': -6317.33654, 'Agios Nikolaos': -6393.09378, 'Sitia': -6468.63396, 'Klaipėda': -5075.48872, 'Kaunas': -5196.12384, 'Vilnius': -5253.29564, 'Lida': -5370.516420000001, 'Slonim': -5480.64124, 'Kobryn': -5611.4827, 'Dubno': -5744.5450200000005, 'Ternopil': -5878.14506, 'Chernivtsi': -6007.72858, 'Siret': -6132.76062, 'Suceava': -6252.42274, 'Roman': -6427.982840000001, 'Urziceni': -6606.18178, 'Bucharest': -6833.92756, 'Giurgiu': -6968.83436, 'Ruse': -7105.36116, 'Byala': -7242.49212, 'Veliko Tarnovo': -7228.46664, 'Stara Zagora': -7310.37582, 'Haskovo': -7461.5993, 'Svilengrad': -7598.24978, 'Ormenio': -7729.5406, 'Kastanies': -7875.93066, 'Didymoteicho': -8014.77798, 'Alexandroupoli': -8148.65898, 'Saint Petersburg': -4693.89106, 'Pskov': -4951.7849, 'Gomel': -5221.2402, 'Kiev': -5439.19052, 'Odessa': -5691.42808, 'Samsun': -5566.53222, 'Merzifon': -5577.15212, 'Moscow': -4944.79602, 'Kaluga': -5051.8669, 'Bryansk': -5167.62618, 'Hlukhiv': -5274.5271, 'Kirkenes': -3864.13434, 'Murmansk': -4136.26104, 'Petrozavodsk': -4411.50398, 'Orel': -5095.97176, 'Kharkiv': -5260.1987, 'Simferopol': -5288.83024, 'Alushta': -5307.59458, 'Yalta': -5311.7640599999995, 'Yaroslavl': -4861.777520000001, 'Voronezh': -5025.01728, 'Novorossiysk': -5191.054819999999, 'Mineralnye Vody': -5352.308940000001, 'Nalchik': -5420.0745, 'Vladikavkaz': -5498.149780000001, 'Stepantsminda': -5598.91176, 'Mtskheta': -5687.7164999999995, 'Tbilisi': -5761.92928, 'Marneuli': -5871.03732, 'Bolnisi': -5990.6115199999995, 'Yerevan': -6090.392760000001, 'Goris': -6173.76766, 'Megri': -6242.77038, 'Tambov': -4969.2472, 'Povorino': -5009.839419999999, 'Volgograd': -5072.097760000001, 'Astrakhan': -5044.79812, 'Makhachkala': -5182.68256, 'Kuba': -5214.6671400000005, 'Baku': -5253.06992, 'Alyat': -5223.57452, 'Astara': -5157.465639999999, 'Samara': -4630.63322, 'Oral': -4755.0136600000005, 'Atyrau': -4855.2404, 'Beineu': -4868.984, 'Shetpe': -4874.24822, 'Zhetybai': -4868.0279, 'Fetisovo': -4853.4821600000005, 'Bekdash': -4830.2367, 'Türkmenbaşy': -4793.93636, 'Gyzylarbat': -4735.8885, 'Chelyabinsk': -4264.34328, 'Kostanay': -4209.45154, 'Esil': -4138.58452, 'Derzhavinsk': -4062.3940999999995, 'Arkalyk': -3982.73912, 'Jezkazgan': -3900.2237, 'Kyzylorda': -3996.23076, 'Shymkent': -3902.41466, 'Tashkent': -3926.40388, 'Ayni': -3907.97644, 'Dushanbe': -3905.7185200000004, 'Panji Poyon': -3966.19316, 'Ishim': -3925.6553400000003, 'Astana': -3811.28486, 'Karaganda': -3753.63338, 'Balkhash': -3649.93282, 'Burubaytal': -3549.1962799999997, 'Almaty': -3454.67014, 'Bishkek': -3601.78946, 'Naryn': -3530.51722, 'Torugart Pass': -3478.38492, 'Omsk': -3781.53568, 'Pavlodar': -3653.6032999999998, 'Semey': -3479.4204999999997, 'Georgiyevka': -3318.8806400000003, 'Maikapshagai': -3322.74878, 'Å': -3011.6699, 'Svolvær': -3085.25026, 'Melbu': -2235.4574000000002, 'Sortland': -2292.72674, 'Lødingen': -2356.2295400000003, 'Evenes': -2425.97064, 'Narvik': -2497.2552, 'Kiruna': -2366.0229, 'Töre': -2248.6083, 'Luleå': -2141.93174, 'Shannon': -3848.10402, 'Limerick': -3768.47278, 'Dublin': -3678.00918, 'Liverpool': -3539.38532, 'Manchester': -3600.70726, 'Leeds': -3575.00832, 'Kingston upon Hull': -3488.11678, 'Esbjerg': -1297.77086, 'Helsingborg': -1183.84078, 'Halmstad': -1142.85232, 'Örebro': -1248.37706, 'Stockholm': -1402.6828200000002, 'Tallinn': -4783.36956, 'Narva': -4737.86102, 'Cork': -3431.9081800000004, 'Waterford': -3508.81648, 'Wexford': -3579.21644, 'Rosslare': -3636.1616599999998, 'Fishguard': -3976.48226, 'Swansea': -3986.84508, 'Bridgend': -3988.0499, 'Cardiff': -3970.14224, 'Newport': -3924.51384, 'Bristol': -3857.96218, 'Colchester': -3712.90018, 'Ipswich': -3629.0806199999997, 'Felixstowe': -3634.14314, 'The Hague': -4532.8571, 'Gouda': -4618.218760000001, 'Amersfoort': -4809.7498, 'Oldenzaal': -4812.443, 'Osnabrück': -4909.49524, 'Bad Oeynhausen': -5045.26142, 'Braunschweig': -5096.03836, 'Magdeburg': -5164.09016, 'Poznań': -5358.01768, 'Warsaw': -5423.89152, 'Brest': -5355.42258, 'Minsk': -5245.84422, 'Smolensk': -5100.966460000001, 'Ryazan': -4835.46674, 'Penza': -4731.19346, 'Ufa': -4435.26408, 'Kurgan': -4093.5102199999997, 'Bruges': -5141.51344, 'Ghent': -5163.54476, 'Brussels': -5232.675920000001, 'Leuven': -5099.30588, 'Eupen': -5058.792600000001, 'Aachen': -5078.664, 'Olpe': -5245.89814, 'Wetzlar': -5352.899820000001, 'Gießen': -5394.17102, 'Bad Hersfeld': -5380.672299999999, 'Eisenach': -5351.5304, 'Erfurt': -5337.99938, 'Gera': -5390.87956, 'Chemnitz': -5490.69068, 'Görlitz': -5518.0674, 'Wrocław': -5518.9181, 'Opole': -5599.24986, 'Gliwice': -5692.09222, 'Zabrze': -5779.1522, 'Kraków': -5834.07386, 'Rzeszów': -5778.48416, 'Jarosław': -5768.6592, 'Korczowa': -5762.63044, 'Lviv': -5747.27514, 'Rivne': -5585.9386, 'Zhytomyr': -5593.19854, 'Luhansk': -5164.19146, 'Beyneu': -4759.82378, 'Qo‘ng‘irot': -4678.71406, 'Nukus': -4606.3460000000005, 'Daşoguz': -4541.8987, 'Bukhara': -4431.0172, 'Navoiy': -4299.57134, 'Samarkand': -4171.27438, 'Jizzakh': -4047.91246, 'Zhambyl': -3749.80038, 'Sary-Ozek': -3300.5236400000003, 'Taldykorgan': -3209.4211600000003, 'Ucharal': -3138.7844999999998, 'Taskesken': -3116.48762, 'Ayagoz': -3205.3889999999997, 'Oskemen': -3219.71004, 'Ridder': -3132.79338, 'Rennes': -5392.28806, 'Le Mans': -5423.09386, 'Reims': -5316.26002, 'Saarbrücken': -5498.1716799999995, 'Mannheim': -5566.04502, 'Heilbronn': -5741.69722, 'Rozvadov': -6000.779159999999, 'Plzeň': -6076.22572, 'Trenčín': -6273.94912, 'Prešov': -6269.35616, 'Košice': -6349.771, 'Vyšné Nemecké': -6285.32648, 'Uzhhorod': -6223.90146, 'Mukachevo': -6040.1807, 'Stryj': -5960.55226, 'Khmelnytskyi': -5810.934719999999, 'Vinnytsia': -5745.93176, 'Uman': -5777.35992, 'Kirovohrad': -5801.14848, 'Dnipropetrovsk': -5733.67334, 'Donetsk': -5658.9845399999995, 'Rostov-on-Don': -5559.66002, 'Armavir': -5464.8168000000005, 'Lorient': -5409.2711, 'Vannes': -5462.5032200000005, 'Nantes': -5501.6473399999995, 'Angers': -5491.43214, 'Tours': -5491.57108, 'Montargis': -5411.65656, 'Auxerre': -5302.56952, 'Beaune': -5207.22006, 'Dole': -5391.21038, 'Besançon': -5570.95816, 'Belfort': -5735.3665200000005, 'Zürich': -6101.991800000001, 'Winterthur': -6125.72476, 'St. Gallen': -6241.273139999999, 'St. Margrethen': -6344.70434, 'Bregenz': -6315.8942400000005, 'Feldkirch': -6475.757439999999, 'Landeck': -6581.34196, 'Telfs': -6655.86504, 'Lauterach': -6576.06092, 'Imst': -6530.714040000001, 'Bad Reichenhall': -6415.571980000001, 'Sattledt': -6429.22972, 'Sankt Pölten': -6408.274719999999, 'Vienna': -6430.35692, 'Nickelsdorf': -6544.26534, 'Mosonmagyaróvár': -6628.27464, 'Szolnok': -6645.9464800000005, 'Püspökladány': -6593.031019999999, 'Oradea': -6670.55142, 'Cluj-Napoca': -6645.50476, 'Turda': -6706.18896, 'Târgu Mureş': -6757.3386199999995, 'Braşov': -6862.66166, 'Ploieşti': -6859.5662600000005, 'Slobozia': -6502.93304, 'Hârşova': -6636.62312, 'Constanţa': -6766.71554, 'Agigea': -6771.031660000001, 'Poti': -5570.9929, 'Senaki': -5584.9182, 'Samtredia': -5716.85528, 'Kutaisi': -5786.125819999999, 'Khashuri': -5834.74862, 'Gori': -5829.86838, 'Rustavi': -5628.19496, 'Ganja': -5486.8171999999995, 'Yevlakh': -5365.089099999999, 'Ashgabat': -4650.6253, 'Tejen': -4686.6737, 'Mary': -4659.55422, 'Türkmenabat': -4571.25646, 'Alat': -4493.363020000001, 'Karshi': -4352.05512, 'Guzar': -4264.299, 'Sherobod': -4161.0165, 'Termez': -4041.33792, 'Jirgatal': -3778.48328, 'Sary Tash': -3703.09104, 'Irkeshtam': -3661.95428, 'A Coruña': -5628.27814, 'Bilbao': -5648.67534, 'Clermont-Ferrand': -5522.36782, 'Chambéry': -5775.71118, 'Susa': -5991.42248, 'Turin': -6209.170819999999, 'Tortona': -6427.4843, 'Brescia': -6594.59122, 'Trieste': -7106.21016, 'Postojna': -7095.5342, 'Ljubljana': -7037.3604399999995, 'Slavonski Brod': -7211.63286, 'Vršac': -7229.45946, 'Timişoara': -7104.12522, 'Drobeta-Turnu Severin': -7242.75172, 'Craiova': -7089.97236, 'Alexandria': -6988.29266, 'Razgrad': -7092.4239800000005, 'Shumen': -7102.6656, 'Varna': -6982.63112, 'Ordu': -5555.89328, 'Giresun': -5546.59244, 'Trabzon': -5542.43792, 'Batumi': -5552.28784, 'Lisbon': -5433.186540000001, 'Valladolid': -5479.168320000001, 'Toulouse': -5658.672100000001, 'Nice': -5996.071040000001, 'Sofia': -7639.75296, 'Plovdiv': -7723.19586, 'Istanbul': -7799.708640000001, 'İzmit': -7864.1104000000005, 'Gerede': -7827.11028, 'Amasya': -7750.3983, 'Erzurum': -7690.355699999999, 'Gürbulak': -7640.39906, 'Iran': -7599.7082, 'Mazara del Vallo': -3955.26824, 'Palermo': -3999.56786, 'Reggio Calabria': -7208.53878, 'Metaponto': -7197.03932, 'Taranto': -7094.43482, 'Ioannina': -8533.6945, 'Gelibolu': -8171.14172, 'Lapseki': -8029.74438, 'Bursa': -7975.14106, 'Ankara': -7965.32824, 'Adana': -7934.28294, 'Nusaybin': -7916.86304, 'Khabur River': -7904.95006, 'Iraq': -7897.21532, 'Larne': -3335.01646, 'Belfast': -3408.4633599999997, 'Newry': -3486.03806, 'Dundalk': -3558.13424, 'Drogheda': -3623.2115, 'Pontevedra': -5595.654320000001, 'Valença': -5533.35932, 'Porto': -5433.4464, 'Albufeira': -5396.452520000001, 'Castro Marim': -5320.39962, 'Huelva': -5279.77604, 'Cherbourg-Octeville': -5231.10018, 'La Rochelle': -5207.216640000001, 'Trelleborg': -1309.8326, 'Oslo': -950.5449, 'Hamar': -1003.6882199999999, 'Lillehammer': -1073.53312, 'Dombås': -1159.4266200000002, 'Trondheim': -1290.93934, 'Stjørdal': -1408.0223999999998, 'Steinkjer': -1535.34692, 'Mosjøen': -1668.6097200000002, 'Mo i Rana': -1803.36962, 'Rognan': -1807.47274, 'Fauske': -1802.6768, 'Ballangen': -2497.5203, 'Setermoen': -2663.1261400000003, 'Alta': -2831.2998399999997, 'Olderfjord': -3008.03636, 'Lakselv': -3194.5024000000003, 'Karasjok': -3387.32276, 'Pau, Pyrénées-Atlantiques': -5906.3753400000005, 'Jaca': -5864.112160000001, 'Zaragoza': -5809.54298, 'Vierzon': -5503.04796, 'Montluçon': -5486.65306, 'Montpellier': -5462.31682, 'Doncaster': -3603.35664, 'Sheffield': -3667.48186, 'Nottingham': -3707.73202, 'Leicester': -3728.7487600000004, 'Northampton': -3746.28698, 'Antwerp': -5016.9985400000005, 'Martigny': -5892.48214, 'Sarreguemines': -5046.91208, 'Ludwigshafen': -4610.3667000000005, 'La Spezia': -6811.32888, 'Bremen': -4957.8885, 'Orkanger': -1170.15866, 'Vinjeøra': -1047.21334, 'Halsa': -943.7385, 'Straumsnes': -853.61298, 'Kristiansund Mainland Connection': -774.402, 'Batnfjordsøra': -705.26362, 'Molde': -648.90388, 'Vestnes': -1037.11956, 'Skodje': -1081.7708, 'Ålesund': -1148.38836, 'Volda': -1207.00064, 'Nordfjordeid': -1243.3698, 'Sandane': -3075.02812, 'Førde': -3033.207, 'Lavik': -2986.12398, 'Instefjord': -293.5815, 'Knarvik': -352.88098, 'Bergen': -430.49016, 'Os': -476.8617, 'Stord': -6231.5769, 'Sveio': -6307.757439999999, 'Aksdal': -6387.21208, 'Bokn': -6463.13864, 'Rennesøy': 78.48526, 'Randaberg': 80.77344000000001, 'Stavanger': 79.31726, 'Sandnes': 70.34214, 'Helleland': 50.02364, 'Flekkefjord': 15.992059999999999, 'Lyngdal': -34.0523, 'Mandal': -98.23740000000001, 'Kristiansand': -176.27197999999999, 'Hirtshals': -4001.4736199999998, 'Hjørring': -4057.8737, 'Nørresundby': -4130.474579999999, 'Dortmund': -5175.46124, 'Aschaffenburg': -5557.86982, 'Stuttgart': -5903.314, 'Schaffhausen': -6020.0958, 'Ulm': -6011.23546, 'Lindau': -6156.742160000001, 'Buchs': -6430.17154, 'Chur': -6500.90716, 'San Bernardino': -6508.45974, 'Rødby': -1249.17242, 'Puttgarden': -4670.49174, 'Oldenburg in Holstein': -4767.156019999999, 'Lübeck': -4892.87396, 'Halle': -5290.0142399999995, 'Plauen': -5484.3546400000005, 'Schönberg': -5619.786999999999, 'Vojtanov': -5740.6733, 'Cheb': -5862.80124, 'Karlovy Vary': -5977.634, 'České Budějovice': -6206.91194, 'Halámky': -6326.137100000001, 'Leipzig': -5251.23862, 'Hirschberg': -5527.8807, 'Hof': -5626.03212, 'Bayreuth': -5792.74162, 'Bayerisch Eisenstein': -6115.17246, 'Deggendorf': -6145.3766, 'Liezen': -6538.02824, 'Sankt Michael': -6612.99028, 'Graz': -6684.34704, 'Maribor': -6910.58714, 'Spielfeld': -6802.1429, 'Karavanke Tunnel': -6832.59138, 'Naklo': -6935.8847, 'Kemijärvi': -2872.13272, 'Posio': -2828.97262, 'Kuusamo': -2831.4071799999997, 'Kajaani': -2904.75826, 'Iisalmi': -3004.7387599999997, 'Kuopio': -3095.94654, 'Tampere': -3313.60574, 'Turku': -3289.41346, 'Riga': -4986.9439, 'Kłodzko': -5650.8861, 'Kudowa-Zdrój': -5779.147, 'Náchod': -5902.589779999999, 'Hradec Králové': -6017.6296999999995, 'Nordkapp': -2958.67164, 'Miskolc': -6525.4806, 'Balatonvilágos': -6815.16454, 'Knin': -7296.6736, 'Szekszárd': -6848.57124, 'Mohács': -7023.69364, 'Osijek': -7197.73628, 'Đakovo': -7378.5251, 'Šamac': -7558.35286, 'Zenica': -7727.08014, 'Mostar': -7833.28026, 'Metković': -7928.02522, 'Šiauliai': -4984.36664, 'Tolpaki': -5006.29748, 'Kaliningrad': -5075.8783, 'Elbląg': -5296.70414, 'Radom': -5648.65262, 'Trstená': -6023.099819999999, 'Ružomberok': -6213.0495, 'Zvolen': -6413.9315799999995, 'Debrecen': -6591.77998, 'Berettyóújfalu': -6662.725820000001, 'Beiuş': -6787.60488, 'Deva': -6891.496, 'Petroşani': -6995.36832, 'Târgu Jiu': -7071.95902, 'Calafat': -7175.71526, 'Vidin': -7447.82802, 'Vraca': -7502.1321, 'Botevgrad': -7566.69148, 'Blagoevgrad': -7829.84774, 'Serres': -8015.00012, 'Halmeu': -6248.52858, 'Satu Mare': -6465.9397, 'Zalău': -6545.6262799999995, 'Sebeş': -6796.69838, 'Sibiu': -6888.32724, 'Piteşti': -6936.40784, 'Pleven': -7361.70372, 'Jablanica': -7470.26202, 'Izmail': -5906.36316, 'Reni': -6122.11596, 'Galaţi': -6326.194820000001, 'Tulcea': -6545.566400000001, 'Burgas': -7173.93926, 'Malko Tarnovo': -7309.44722, 'Dereköy': -7463.96228, 'Kırklareli': -7612.385200000001, 'Babaeski': -7755.87766, 'Havsa': -7902.93876, 'Keşan': -8045.27408, 'Ayvalık': -8276.59764, 'İzmir': -8359.346759999999, 'Selçuk': -8494.072040000001, 'Aydın': -8603.21982, 'Denizli': -8694.46928, 'Acıpayam': -8773.8251, 'Korkuteli': -8841.41604, 'Antalya': -8897.32924, 'Kızılcahamam': -7884.96488, 'Toprakkale': -4304.61984, 'İskenderun': -4299.668320000001, 'Antakya': -4293.009, 'Yayladağı': -4284.34184, 'Syria': -4278.2102, 'Kherson': -5493.608520000001, 'Dzhankoy': -5345.06718, 'Sochi': -5278.915, 'Sukhumi': -5375.78686, 'Zugdidi': -5486.07672, 'Şanlıurfa': -5146.90218, 'Diyarbakır': -5156.427339999999, 'Bitlis': -5165.87788, 'Doğubeyazit': -5174.52898, 'Iğdir': -5180.9691, 'Dilucu': -5185.347580000001, 'Sadarak': -5188.53552, 'Jönköping': -1260.47506, 'Linköping': -1343.96144, 'Norrköping': -1406.62314, 'Södertälje': -1429.71668, 'Uppsala': -1493.61212, 'Sundsvall': -1568.53228, 'Örnsköldsvik': -1751.14378, 'Umeå': -1921.71442, 'Haparanda': -2325.6371, 'Tornio': -2516.2077799999997, 'Tromsø': -2161.93458, 'Nordkjosbotn': -2215.9993, 'Skibotn': -2280.41026, 'Kilpisjärvi': -2351.58908, 'Kolari': -2429.8568, 'Kokkola': -3073.57586, 'Vaasa': -3189.4762, 'Pori': -3209.46514, 'Hämeenlinna': -3498.52362, 'Derry': -3450.09208, 'Arna': -476.89306, 'Voss': -529.6223799999999, 'Lærdal': -588.10558, 'Tyin': -651.63564, 'Fagernes': -719.25938, 'Hønefoss': -790.26414, 'Sandvika': -866.1421, 'Craigavon': -3349.3898, 'Stranraer': -4045.87802, 'Gretna': -3956.8752, 'Carlisle': -3846.37036, 'Arendal': -263.4979, 'Porsgrunn': -358.2156, 'Larvik': -458.29408, 'Sandefjord': -563.634, 'Horten': -672.72856, 'Drammen': -781.85706, 'Askim': -1030.7148, 'Karlstad': -1141.42758, 'Västerås': -1296.76754, 'Stockholm/Kapellskär': -1316.06086, 'Turku/Naantali': -3700.8823199999997, 'Kotka': -3940.00984, 'Vaalimaa': -4190.4206, 'Vyborg': -4442.56394, 'Holyhead': -3780.4249, 'Chester': -3732.61986, 'Warrington': -3674.82374, 'Immingham': -3529.6589, 'Groningen': -4887.5828200000005, 'Sassnitz': -4891.34978, 'Kalmar': -1345.4375400000001, 'Ventspils': -4894.76774, 'Rēzekne': -4999.59228, 'Velikiye Luki': -4972.0061, 'Vladimir': -4783.64566, 'Nizhny Novgorod': -4646.49776, 'Kazan': -4520.8124, 'Yelabuga': -4404.235, 'Perm': -4261.8598600000005, 'Yekaterinburg': -4129.31402, 'Tyumen': -4011.68382, 'Cambridge': -3529.26018, 'Koszalin': -4933.71854, 'Słupsk': -4980.93094, 'Gdynia': -5069.26894, 'Nesterov': -5081.49168, 'Marijampolė': -5166.88572, 'Harwich': -3749.4239000000002, 'Zeebrugge': -5021.405040000001, 'Venlo': -4897.97192, 'Cottbus': -5397.25946, 'Kursk': -5147.5705, 'Saratov': -4887.87792, 'Aktobe': -4606.513, 'Karabutak': -4458.8245400000005, 'Aral': -4311.24824, 'Novokazalinsk': -4158.16782, 'Dunkirk': -4820.45432, 'Lille': -4895.80572, 'Mons': -4994.56982, 'Charleroi': -5128.01238, 'Namur': -5045.66332, 'St. Vith': -5167.69178, 'Wittlich': -5220.36512, 'Bingen': -5256.81796, 'Wiesbaden': -5318.72034, 'Amiens': -5325.82236, 'Charleville-Mézières': -5235.61518, 'Trier': -5382.174639999999, 'Koblenz': -5362.05146, 'Caen': -5280.367219999999, 'Rouen': -5357.98262, 'Schweinfurt': -5785.06654, 'Marktredwitz': -5834.4287, 'Appenweier': -5764.766780000001, 'Chaumont': -5619.90488, 'Waldshut': -6069.98604, 'Regensburg': -6058.807919999999, 'Passau': -6191.979039999999, 'Wels': -6313.6123, 'Iaşi': -6123.53676, 'Sculeni': -6025.05574, 'Chişinău': -5915.894859999999, 'Mykolaiv': -5598.496660000001, 'Melitopol': -5512.86758, 'Taganrog': -5532.00252, 'Poitiers': -5580.4431, 'Mâcon': -5631.840160000001, 'Sion': -6047.08362, 'Simplon': -6186.00392, 'Gravellona Toce': -6311.86126, 'Innichen': -6825.28062, 'Spittal an der Drau': -6768.70584, 'Klagenfurt': -6728.16416, 'Veszprém': -6770.0774, 'Székesfehérvár': -6855.9011, 'Arad': -6882.8204399999995, 'Cuneo': -6102.74552, 'Asti': -6203.87828, 'Pisa': -6857.11342, 'Migliarino': -6794.3844, 'Grosseto': -7465.55142, 'Arezzo': -7369.2558, 'Sansepolcro': -7248.8641, 'Vila Real': -5374.43324, 'Bragança': -5294.0999, 'Zamora': -5321.6264, 'Tordesillas': -5346.8025800000005, 'Tekirdağ': -8103.1861, 'Silivri': -8151.6475199999995, 'Kristalopigi': -7558.75526, 'Florina': -7481.2356199999995, 'Vévi': -7399.90012, 'Géfira': -7324.3112200000005, 'Yozgat': -8044.12428, 'Sivas': -8104.88344, 'Refahiye': -8151.055579999999, 'Trikala': -8522.975199999999, 'Volos': -8584.80744, 'Megara': -9246.250540000001, 'Attiki Odos': -9333.75596, 'Usak': -8391.04954, 'Afyonkarahisar': -8423.92628, 'Sivrihisar': -8452.17536, 'Topboğazi': -7647.81776, 'Kırıkhan': -7570.99758, 'Reyhanlı': -7490.6204, 'Cilvegözü': -7412.69764, 'Sadakhlo': -5885.27914, 'Bagratashen': -5906.90368, 'Vanadzor': -5927.9193000000005, 'Saatly Rayon': -5213.54162, 'Mehgri': -5204.14062, 'Ordubad': -5198.01034, 'Djulfa': -5194.36842, 'Nakhchivan': -5191.4188, 'Uchkuduk': -4459.74236, 'Gaudan': -4616.43472, 'Kzylorda': -4393.42088, 'Guza': -4147.1536399999995, 'Kokand': -3858.7066600000003, 'Andijan': -3753.99334, 'Osh': -3654.49126, 'Kulob': -3877.16438, 'Kalaikhumb': -3824.05778, 'Khorugh': -3734.4357600000003, 'Murghab': -3632.39874, 'Kulma': -3549.96346, 'Ishkoshim': -3731.15118, 'Lyanga': -3718.0568799999996, 'China': -3702.53148, 'Kokpek': -3347.6574, 'Kegen': -3280.08332, 'Tyup': -3215.93244, 'Chundzha': -3251.8466, 'Koktal': -3196.90656, 'Khorgas': -3099.1728799999996, 'Usharal': -3228.19078, 'Druzhba': -3202.80704, 'Bakhty': -3019.98562, 'Zapadnoe': -3501.10642, 'Zhaksy': -3593.47166, 'Atbasar': -3693.94312, 'Uspenovka': -3594.64972, 'Petropavl': -3417.1282, 'Haugesund': -299.40562, 'Røldal': -377.46206, 'Haukeli': -467.77192, 'Seljord': -565.5254, 'Kongsberg': -670.54998, 'Tresfjord': -1155.82666, 'Åndalsnes': -1160.69524, 'Portlaoise': -3361.37686, 'Hoogeveen': -4732.43514, 'Haselünne': -4593.57846, 'Cloppenburg': -4491.56114, 'Cuxhaven': -4709.89896, 'Bremerhaven': -4814.40874, 'Walsrode': -4890.909, 'Stralsund': -4919.98456, 'Neubrandenburg': -5018.91716, 'Ukmergė': -5153.4531799999995, 'Daugavpils': -5081.8492400000005, 'Ostrov': -4915.27638, 'Tartu': -4618.846579999999, 'Võru': -4521.91868, 'Luhamaa': -4446.572620000001, 'Jõhvi': -4621.4887, 'Valga': -4498.2227, 'Valka': -4393.3298, 'Valmiera': -4302.15128, 'Incukalns': -4225.292579999999, 'Keila': -4695.18356, 'Paldiski': -4620.2922, 'Babruysk': -5239.6547, 'Palanga': -4969.14624, 'Panevėžys': -5060.94836, 'Breda': -4711.70794, 'Gorinchem': -4706.77018, 'Flushing': -4622.6844, 'Hasselt': -4999.39012, 'Heerlen': -5020.24652, 'Barwinek': -5902.812919999999, 'Vyšný Komárnik': -6027.88252, 'Svidník': -6149.32536, 'Lublin': -5571.09452, 'Kovel': -5580.21886, 'Trosna': -4091.99036, 'Glukhkov': -4149.2047, 'Saint-Brieuc': -5228.131399999999, 'Roeselare': -5154.15262, 'Kortrijk': -5180.73316, 'Tournai': -5228.92222, 'Jabbeke': -4919.8555400000005, 'Nivelles': -5073.64592, 'Eynatten': -4935.272, 'Teplice': -5939.0247, 'Olomouc': -6107.273639999999, 'Svitavy': -6346.65354, 'Český Těšín': -5987.4974600000005, 'Courtney': -5940.95676, 'Troyes': -5978.2518199999995, 'Remiremont': -5871.460940000001, 'Donaueschingen': -5962.11816, 'Memmingen': -6162.3632800000005, 'Füssen': -6225.060820000001, 'Garmisch-Partenkirchen': -6288.45242, 'Mittenwald': -6395.93272, 'Seefeld': -6505.6204800000005, 'Humpolec': -6287.49072, 'Braunau am Inn': -6269.05478, 'Žiar nad Hronom': -6206.35332, 'Nyíregyháza': -6467.993619999999, 'Chop': -6344.72906, 'Bacău': -6947.6512, 'Dunajská Streda': -6444.147, 'Medveďov': -6532.69416, 'Vámosszabadi': -6581.58518, 'Dej': -6714.064740000001, 'Buzău': -6916.93658, 'Sărăţel': -2830.90274, 'Reghin': -2848.81536, 'Topliţa': -2868.5082199999997, 'Gheorgheni': -2887.29988, 'Miercurea-Ciuc': -2899.1499200000003, 'Sfântu Gheorghe': -2899.1659200000004, 'Chichiş': -2890.21692, 'Tişiţa': -6083.39324, 'Tecuci': -6057.04328, 'Albiţa': -6021.8683, 'Leuşeni': -5975.51728, 'Săbăoani': -6194.71408, 'Bălţi': -5998.85912, 'Mohyliv-Podilskyi': -5872.99942, 'Poltava': -5821.56412, 'Giurgiuleşti': -6126.00608, 'Krasnodar': -6540.6653, 'Djoubga': -6592.1869, 'Niort': -5134.7347, 'Saintes': -5290.7296400000005, 'Angoulême': -5409.81682, 'Limoges': -5367.79752, 'Digoin': -3126.47332, 'Chalon-sur-Saône': -3114.293, \"Pont-d'Ain\": -5673.02092, 'St. Johann in Tirol': -6565.63972, 'Lofer': -6528.16828, 'Altenmarkt im Pongau': -6607.7635, 'Loiblpass': -6841.39854, 'Torniyiszentmiklós': -7146.8841999999995, 'Balatonkeresztúr': -8562.698199999999, 'Nagyatád': -8495.80822, 'Barcs': -8419.1455, 'Virovitica': -8334.201780000001, 'Okučani': -8239.6111, 'Banja Luka': -8131.60604, 'Jajce': -8002.09048, 'Donji Vakuf': -7865.5814199999995, 'Sombor': -7125.23892, 'Lugoj': -3997.21552, 'Ilia': -4019.0027199999995, 'Negru Vodă': -6778.24426, 'Kardam': -6786.60296, 'Ashtarak': -3468.55622, 'Gyumri': -3540.272, 'Ashotsk': -3621.03636, 'Akhalkalaki': -3705.06916, 'Akhaltsikhe': -3789.91776, 'Vale, Georgia': -3866.73344, 'Türkgözü': -3917.93536, 'Posof': -3936.4360399999996, 'Kars': -3933.3322399999997, 'Horasan': -3921.1558, 'Supsa': -5911.02448, 'Lanchkhuti': -5821.32154, 'Grenoble': -5616.1024, 'Marseille': -5778.38426, 'Valence': -5628.13546, 'Savona': -6286.16974, 'Pula': -7346.09938, 'Koper': -7429.91666, 'Bihać': -8020.36528, 'Sarajevo': -7660.60742, 'Užice': -7631.329659999999, 'Čačak': -7525.60346, 'Kraljevo': -7702.98844, 'Kruševac': -7846.48496, 'Pojate': -7969.9814, 'Paraćin': -8075.45004, 'Zaječar': -8162.826080000001, 'Nova Varoš': -7513.90062, 'Yablanitsa': -7307.581520000001, 'Popovica': -7365.70642, 'Coimbra': -5194.6819399999995, 'Viseu': -5279.96372, 'Chaves': -5457.11164, 'Verín': -5547.4865199999995, 'Guarda': -5190.09208, 'Castelo Branco': -5099.28236, 'Portalegre': -5069.86974, 'Évora': -5027.06304, 'Beja': -4981.7690600000005, 'Ourique': -4938.758400000001, 'Salamanca': -5136.45206, 'Mérida': -5185.98074, 'Logroño': -5739.25922, 'Famalicão': -5474.90356, 'Torres Novas': -4908.64338, 'Abrantes': -4995.87088, 'San Cesareo': -6620.32328, 'Olbia': -3061.69094, 'Avellino': -7213.62966, 'Benevento': -7085.95312, 'Spezzano Albanese': -4280.54914, 'Sybaris': -4242.0113, 'Crotone': -7507.92706, 'Potenza': -7297.37572, \"Sant'Eufemia Lamezia\": -7669.842799999999, 'Catanzaro': -7712.0535, 'Prizren': -7595.0509, 'Kyustendil': -7637.00388, 'Balıkesir': -8114.43006, 'Manisa': -8241.624319999999, 'Çeşme': -8431.45552, 'Jaén': -4799.80184, 'Granada': -4877.69778, 'Buonfornello': -3795.22954, 'Enna': -3834.51048, 'Alcamo': -5495.20664, 'Trapani': -5481.61782, 'Arta': -8553.62148, 'Agrinio': -8575.27342, 'Messolonghi': -8597.13072, 'Aktio': -9098.72408, 'Vonitsa': -9010.572740000001, 'Amfilochia': -8905.916420000001, 'Karpenisi': -8786.648720000001, 'Sparti': -9212.609520000002, 'Gytheio': -9257.601779999999, 'Eleusina': -3155.19666, 'Thebes': -3151.60084}\n",
            "{'Greenock': -5815.3258399999995, 'Glasgow': -5784.010740000001, 'Preston': -5692.7688, 'Birmingham': -5598.63654, 'Southampton': -5543.88148, 'Le Havre': -7104.28374, 'Paris': -7010.73608, 'Orléans': -7280.459900000001, 'Bordeaux': -7544.901699999999, 'San Sebastián': -7788.86262, 'Burgos': -7991.4856, 'Madrid': -8087.52228, 'Seville': -8245.82996, 'Algeciras': -8304.60642, 'Inverness': -5983.15622, 'Perth': -5919.7749, 'Edinburgh': -5837.089019999999, 'Newcastle': -5818.8487000000005, 'London': -5788.733340000001, 'Folkestone': -5891.2356199999995, 'Dover': -5964.03154, 'Calais': -6901.94154, 'Lyon': -7266.862340000001, 'Orange': -7440.0493, 'Narbonne': -7615.93868, 'Girona': -7746.77974, 'Barcelona': -7845.592680000001, 'Tarragona': -7926.288259999999, 'Castellón de la Plana': -8002.84398, 'Valencia': -8090.302660000001, 'Alicante': -8135.780219999999, 'Murcia': -8190.611280000001, 'Almería': -8268.04238, 'Málaga': -8357.512760000001, 'Hook of Holland': -7122.54158, 'Rotterdam': -7151.47682, 'Eindhoven': -7051.52204, 'Maastricht': -7111.4911, 'Liège': -7058.86672, 'Bastogne': -7125.05864, 'Arlon': -7054.064, 'Luxembourg': -6978.69166, 'Metz': -6975.51634, 'Saint-Avold': -6920.0479399999995, 'Strasbourg': -6863.1568, 'Mulhouse': -6946.73464, 'Basel': -6839.89032, 'Olten': -6974.7345000000005, 'Bern': -7054.58066, 'Lausanne': -7039.10526, 'Geneva': -7071.7201000000005, 'Mont Blanc': -7173.65956, 'Aosta': -7244.656, 'Ivrea': -7352.9715400000005, 'Vercelli': -7449.4306799999995, 'Alessandria': -7478.780839999999, 'Genoa': -7557.170840000001, 'Bastia': -6813.87492, 'Porto-Vecchio': -6748.30202, 'Bonifacio': -6686.0643199999995, 'Porto Torres': -6191.77256, 'Sassari': -6240.47894, 'Cagliari': -6321.66638, 'Amsterdam': -6776.91662, 'Utrecht': -6830.14014, 'Arnhem': -6754.2013, 'Emmerich': -6696.113020000001, 'Oberhausen': -6650.99982, 'Cologne': -6556.2969, 'Frankfurt am Main': -6547.6513, 'Heidelberg': -6577.82782, 'Karlsruhe': -6632.25648, 'Offenburg': -6733.4697, 'Lucerne': -6991.56502, 'Altdorf': -6959.30126, 'Gotthard Pass': -7013.30048, 'Bellinzona': -7048.139520000001, 'Lugano': -7120.45472, 'Chiasso': -7202.24084, 'Como': -7287.0765, 'Milan': -7325.9103000000005, 'Piacenza': -7353.72174, 'Parma': -7331.65682, 'Modena': -7260.752280000001, 'Florence': -7451.37042, 'Rome': -7590.42522, 'Karesuvanto': -4269.801280000001, 'Karesuando': -4291.44346, 'Arvidsjaur': -4331.945100000001, 'Östersund': -4381.84238, 'Mora': -4493.24478, 'Säffle': -4606.87828, 'Gothenburg': -4733.53686, 'Frederikshavn': -6346.28922, 'Aalborg': -6380.5507, 'Aarhus': -6313.6773, 'Vejle': -6251.77162, 'Kolding': -6198.479240000001, 'Flensburg': -6158.273819999999, 'Hamburg': -6125.9911, 'Hanover': -6244.95802, 'Göttingen': -6320.69954, 'Kassel': -6393.91046, 'Fulda': -6387.50462, 'Würzburg': -6419.23884, 'Nuremberg': -6296.1684399999995, 'Munich': -6326.0226, 'Rosenheim': -6350.11216, 'Wörgl': -6416.35368, 'Innsbruck': -6545.72316, 'Brenner': -6577.1112, 'Fortezza': -6611.68814, 'Bolzano': -6766.341579999999, 'Trento': -6914.8728, 'Verona': -7051.0776000000005, 'Bologna': -7250.0234199999995, 'Cesena': -7235.17802, 'Perugia': -7403.0097000000005, 'Fiano Romano': -7581.51932, 'Naples': -7743.151959999999, 'Salerno': -7873.445140000001, 'Sicignano degli Alburni': -8006.0328, 'Cosenza': -8078.43122, 'Villa San Giovanni': -8081.147980000001, 'Messina': -4551.2802, 'Catania': -4530.54154, 'Siracusa': -4611.56716, 'Gela': -4689.58688, 'Helsingør': -5446.1118400000005, 'Copenhagen': -5406.824140000001, 'Køge': -5551.40334, 'Vordingborg': -5678.37294, 'Farø': -5796.3578800000005, 'Nykøbing Falster': -5888.35488, 'Gedser': -5969.7273, 'Rostock': -5923.8668800000005, 'Berlin': -5867.45802, 'Lübbenau': -5791.34314, 'Dresden': -5792.92612, 'Ústí nad Labem': -5783.04288, 'Prague': -5770.60806, 'Tábor': -5891.28294, 'Linz': -5988.06794, 'Salzburg': -6172.84696, 'Villach': -6148.65274, 'Tarvisio': -6232.099899999999, 'Udine': -6324.689979999999, 'Palmanova': -6421.62784, 'Mestre': -6787.58364, 'Ravenna': -7010.69574, 'Rimini': -7370.28152, 'Fano': -7509.90142, 'Ancona': -7611.31772, 'Pescara': -7687.4788, 'Canosa di Puglia': -7829.979899999999, 'Bari': -7975.37566, 'Brindisi': -8067.868759999999, 'Igoumenitsa': -4701.66202, 'Preveza': -4801.241840000001, 'Rhion': -4901.76922, 'Patras': -5007.4384, 'Pyrgos': -5099.06424, 'Kalamata': -5153.88028, 'Malmö': -5234.42632, 'Ystad': -5266.60526, 'Świnoujście': -5558.746679999999, 'Wolin': -5577.92486, 'Goleniów': -5599.584379999999, 'Szczecin': -5712.0057400000005, 'Gorzów Wielkopolski': -5647.49122, 'Świebodzin': -5626.3072, 'Zielona Góra': -5599.8791, 'Legnica': -5575.59968, 'Jelenia Góra': -5587.11342, 'Harrachov': -5614.08756, 'Železný Brod': -5638.6539, 'Turnov': -5668.742660000001, 'Mladá Boleslav': -5700.00764, 'Jihlava': -5634.6259, 'Brno': -5479.86434, 'Bratislava': -5374.61784, 'Rajka': -5415.80936, 'Csorna': -5447.02164, 'Szombathely': -5460.82866, 'Zalaegerszeg': -5459.7011, 'Nagykanizsa': -5445.71178, 'Letenye': -5496.17138, 'Zagreb': -5585.53726, 'Karlovac': -5697.48628, 'Rijeka': -5832.2555999999995, 'Split': -5614.467420000001, 'Dubrovnik': -5383.8023, 'Petrovac': -5250.7276999999995, 'Podgorica': -5180.67366, 'Bijelo Polje': -5044.69798, 'Pristina': -4957.443740000001, 'Skopje': -4813.64462, 'Kičevo': -4815.50212, 'Ohrid': -4794.4641, 'Bitola': -4751.50608, 'Niki': -4683.54546, 'Vevi': -4593.84402, 'Kozani': -4490.8191400000005, 'Larissa': -4403.89646, 'Domokos': -4334.56728, 'Lamia': -4320.659960000001, 'Brallos': -4228.26134, 'Itea': -4150.127280000001, 'Antirrio': -4087.2145, 'Aigio': -4951.99054, 'Corinth': -5027.64336, 'Tripoli': -5142.4466999999995, 'Kissamos': -7966.79734, 'Chania': -7925.46346, 'Vardø': -4344.9236, 'Vadsø': -4279.252579999999, 'Varangerbotn': -4213.1103, 'Utsjoki': -4147.18122, 'Inari': -4097.22306, 'Ivalo': -4037.6755, 'Sodankylä': -3959.4181000000003, 'Rovaniemi': -3942.30048, 'Kemi': -3878.81414, 'Oulu': -3819.60146, 'Jyväskylä': -3764.81412, 'Heinola': -3765.4770200000003, 'Lahti': -3812.74684, 'Helsinki': -3901.1787999999997, 'Gdańsk': -5223.8239, 'Świecie': -5289.86928, 'Łódź': -5273.6289799999995, 'Piotrków Trybunalski': -5273.01692, 'Katowice': -5291.33026, 'Žilina': -5353.000660000001, 'Győr': -5243.1367199999995, 'Budapest': -5152.31754, 'Szeged': -4998.69678, 'Subotica': -5034.90322, 'Novi Sad': -5025.3760999999995, 'Belgrade': -5028.07604, 'Niš': -4766.3665200000005, 'Kumanovo': -4737.32672, 'Veles': -4701.8200400000005, 'Gevgelija': -4598.36294, 'Evzoni': -4492.6284000000005, 'Thessaloniki': -4379.961899999999, 'Katerini': -4377.62012, 'Athens': -4229.896479999999, 'Heraklion': -7890.61, 'Agios Nikolaos': -7863.12934, 'Sitia': -7844.35148, 'Klaipėda': -4905.549660000001, 'Kaunas': -4910.8277, 'Vilnius': -4876.64378, 'Lida': -4768.956639999999, 'Slonim': -4666.598480000001, 'Kobryn': -4584.1966999999995, 'Dubno': -4514.47254, 'Ternopil': -4455.48064, 'Chernivtsi': -4411.406580000001, 'Siret': -4376.1176, 'Suceava': -4343.10358, 'Roman': -4244.25252, 'Urziceni': -4153.23482, 'Bucharest': -4163.070000000001, 'Giurgiu': -4088.00868, 'Ruse': -4050.26252, 'Byala': -4052.63172, 'Veliko Tarnovo': -3925.70136, 'Stara Zagora': -3845.12672, 'Haskovo': -3893.51322, 'Svilengrad': -3955.07762, 'Ormenio': -4023.71404, 'Kastanies': -4078.36002, 'Didymoteicho': -4127.3238, 'Alexandroupoli': -4174.99314, 'Saint Petersburg': -4294.06312, 'Pskov': -4457.97162, 'Gomel': -4470.02194, 'Kiev': -4258.972199999999, 'Odessa': -4065.55116, 'Samsun': -2119.73336, 'Merzifon': -2030.6951, 'Moscow': -4192.27186, 'Kaluga': -4203.88346, 'Bryansk': -4196.2880399999995, 'Hlukhiv': -4160.0853799999995, 'Kirkenes': -4225.39374, 'Murmansk': -4246.88806, 'Petrozavodsk': -4271.7011999999995, 'Orel': -4116.3436, 'Kharkiv': -4061.8183200000003, 'Simferopol': -3970.68696, 'Alushta': -3884.52346, 'Yalta': -3806.4149, 'Yaroslavl': -4170.41026, 'Voronezh': -3895.87456, 'Novorossiysk': -3704.5726999999997, 'Mineralnye Vody': -3139.4249, 'Nalchik': -2993.46532, 'Vladikavkaz': -2858.54074, 'Stepantsminda': -2727.70702, 'Mtskheta': -2605.41968, 'Tbilisi': -2482.32384, 'Marneuli': -2348.87718, 'Bolnisi': -2290.89214, 'Yerevan': -2225.35194, 'Goris': -2161.58628, 'Megri': -2102.30724, 'Tambov': -3993.22708, 'Povorino': -3800.12666, 'Volgograd': -3628.54162, 'Astrakhan': -3354.42748, 'Makhachkala': -3148.25862, 'Kuba': -2932.0588000000002, 'Baku': -2721.09048, 'Alyat': -2542.11352, 'Astara': -2491.6941, 'Samara': -3556.7920599999998, 'Oral': -3435.8422800000003, 'Atyrau': -3249.7334, 'Beineu': -3116.57448, 'Shetpe': -2984.71802, 'Zhetybai': -2860.67722, 'Fetisovo': -2744.41846, 'Bekdash': -2633.5099, 'Türkmenbaşy': -2532.35376, 'Gyzylarbat': -2445.24854, 'Chelyabinsk': -3295.61064, 'Kostanay': -3169.65386, 'Esil': -3054.34692, 'Derzhavinsk': -2949.5143000000003, 'Arkalyk': -2849.9859, 'Jezkazgan': -2758.1376400000004, 'Kyzylorda': -2642.27564, 'Shymkent': -2438.35136, 'Tashkent': -2251.7949399999998, 'Ayni': -2087.0845600000002, 'Dushanbe': -1914.53576, 'Panji Poyon': -1844.2494199999999, 'Ishim': -3115.89064, 'Astana': -2975.1169, 'Karaganda': -2815.53974, 'Balkhash': -2664.87424, 'Burubaytal': -2521.71958, 'Almaty': -2376.47766, 'Bishkek': -2295.0146, 'Naryn': -2216.29518, 'Torugart Pass': -2140.3653600000002, 'Omsk': -3029.85056, 'Pavlodar': -2904.6495800000002, 'Semey': -2866.24548, 'Georgiyevka': -2825.44356, 'Maikapshagai': -2747.76364, 'Å': -5945.727739999999, 'Svolvær': -5960.56636, 'Melbu': -4638.02906, 'Sortland': -4572.0527999999995, 'Lødingen': -4497.154939999999, 'Evenes': -4416.67478, 'Narvik': -4324.54156, 'Kiruna': -4260.12246, 'Töre': -4193.588820000001, 'Luleå': -4120.665660000001, 'Shannon': -5019.378180000001, 'Limerick': -5000.6877, 'Dublin': -4991.83332, 'Liverpool': -6539.0589, 'Manchester': -6477.31374, 'Leeds': -6381.3102, 'Kingston upon Hull': -6386.69514, 'Esbjerg': -5461.5884399999995, 'Helsingborg': -5077.84998, 'Halmstad': -4912.175300000001, 'Örebro': -4746.6269600000005, 'Stockholm': -4719.02086, 'Tallinn': -4586.0122, 'Narva': -4430.9385600000005, 'Cork': -5214.46946, 'Waterford': -5181.46502, 'Wexford': -5137.42806, 'Rosslare': -5072.52874, 'Fishguard': -5273.73946, 'Swansea': -5353.4595, 'Bridgend': -5440.12864, 'Cardiff': -5527.1081, 'Newport': -5612.2393600000005, 'Bristol': -5695.2289, 'Colchester': -5670.12642, 'Ipswich': -5586.240540000001, 'Felixstowe': -5494.71692, 'The Hague': -7010.33526, 'Gouda': -6907.92472, 'Amersfoort': -6704.60474, 'Oldenzaal': -6569.70634, 'Osnabrück': -6474.24304, 'Bad Oeynhausen': -6399.3922999999995, 'Braunschweig': -6125.2660399999995, 'Magdeburg': -6020.56586, 'Poznań': -5395.33586, 'Warsaw': -5173.28876, 'Brest': -5527.2239, 'Minsk': -5010.41156, 'Smolensk': -4595.32818, 'Ryazan': -3970.3626, 'Penza': -3761.2484, 'Ufa': -3450.4163399999998, 'Kurgan': -3204.1376600000003, 'Bruges': -6826.35026, 'Ghent': -6882.5373, 'Brussels': -6915.59646, 'Leuven': -6964.63848, 'Eupen': -6907.86956, 'Aachen': -6732.87946, 'Olpe': -6537.2881, 'Wetzlar': -6525.871440000001, 'Gießen': -6434.76868, 'Bad Hersfeld': -6301.96374, 'Eisenach': -6183.20204, 'Erfurt': -6048.76512, 'Gera': -5957.09712, 'Chemnitz': -5912.338, 'Görlitz': -5683.67648, 'Wrocław': -5414.79046, 'Opole': -5357.7231, 'Gliwice': -5309.43484, 'Zabrze': -5283.65464, 'Kraków': -5151.003839999999, 'Rzeszów': -5045.7455, 'Jarosław': -4918.580999999999, 'Korczowa': -4800.81242, 'Lviv': -4690.71278, 'Rivne': -4484.845, 'Zhytomyr': -4314.8092, 'Luhansk': -3841.8932200000004, 'Beyneu': -3051.6463400000002, 'Qo‘ng‘irot': -2852.2068, 'Nukus': -2654.0285799999997, 'Daşoguz': -2454.6169, 'Bukhara': -2301.74134, 'Navoiy': -2280.50116, 'Samarkand': -2265.91406, 'Jizzakh': -2250.4933, 'Zhambyl': -2369.23288, 'Sary-Ozek': -2399.12084, 'Taldykorgan': -2475.6212, 'Ucharal': -2557.18874, 'Taskesken': -2660.27864, 'Ayagoz': -2744.7691999999997, 'Oskemen': -2879.92254, 'Ridder': -2913.61108, 'Rennes': -6085.0977, 'Le Mans': -6641.1696999999995, 'Reims': -7068.76514, 'Saarbrücken': -6786.8357000000005, 'Mannheim': -6589.39774, 'Heilbronn': -6444.0206, 'Rozvadov': -6113.00898, 'Plzeň': -5931.36526, 'Trenčín': -5296.959239999999, 'Prešov': -5118.56322, 'Košice': -5005.16204, 'Vyšné Nemecké': -4911.51842, 'Uzhhorod': -4827.549580000001, 'Mukachevo': -4670.89794, 'Stryj': -4562.5589, 'Khmelnytskyi': -4335.7598, 'Vinnytsia': -4217.479960000001, 'Uman': -4043.15932, 'Kirovohrad': -3876.5820400000002, 'Dnipropetrovsk': -3705.3358799999996, 'Donetsk': -3552.18422, 'Rostov-on-Don': -3420.85216, 'Armavir': -3273.7287199999996, 'Lorient': -5836.4258199999995, 'Vannes': -6149.95042, 'Nantes': -6455.55302, 'Angers': -6689.8296, 'Tours': -6927.32114, 'Montargis': -7345.4489, 'Auxerre': -7321.700159999999, 'Beaune': -7216.69926, 'Dole': -7218.40278, 'Besançon': -7167.6322199999995, 'Belfort': -7094.39844, 'Zürich': -6858.09392, 'Winterthur': -6739.94652, 'St. Gallen': -6756.4965600000005, 'St. Margrethen': -6744.5807, 'Bregenz': -6624.71064, 'Feldkirch': -6657.0668399999995, 'Landeck': -6715.06304, 'Telfs': -6651.49542, 'Lauterach': -6635.2171, 'Imst': -6591.6671400000005, 'Bad Reichenhall': -6267.63534, 'Sattledt': -6055.93352, 'Sankt Pölten': -5800.080379999999, 'Vienna': -5608.069259999999, 'Nickelsdorf': -5484.032499999999, 'Mosonmagyaróvár': -5323.8395, 'Szolnok': -4996.90896, 'Püspökladány': -4840.80816, 'Oradea': -4719.04162, 'Cluj-Napoca': -4584.78208, 'Turda': -4471.1795600000005, 'Târgu Mureş': -4379.74518, 'Braşov': -4359.1312, 'Ploieşti': -4241.60444, 'Slobozia': -4034.3589800000004, 'Hârşova': -3985.8824799999998, 'Constanţa': -3962.7162399999997, 'Agigea': -3830.6097800000002, 'Poti': -2804.72048, 'Senaki': -2964.43896, 'Samtredia': -2887.2524, 'Kutaisi': -2777.52648, 'Khashuri': -2670.0816999999997, 'Gori': -2562.72656, 'Rustavi': -2504.3232, 'Ganja': -2555.40936, 'Yevlakh': -2631.37048, 'Ashgabat': -2377.5807800000002, 'Tejen': -2258.3502000000003, 'Mary': -2159.84144, 'Türkmenabat': -2133.62718, 'Alat': -2199.77176, 'Karshi': -2166.9633, 'Guzar': -2058.95382, 'Sherobod': -1980.7773399999999, 'Termez': -1937.09052, 'Jirgatal': -1827.2343, 'Sary Tash': -1915.65164, 'Irkeshtam': -2028.48324, 'A Coruña': -8171.92646, 'Bilbao': -8008.437539999999, 'Clermont-Ferrand': -7393.31524, 'Chambéry': -7257.4887, 'Susa': -7330.628540000001, 'Turin': -7366.2563, 'Tortona': -7413.05802, 'Brescia': -7245.35428, 'Trieste': -6069.68606, 'Postojna': -5956.43484, 'Ljubljana': -5841.96074, 'Slavonski Brod': -5311.96654, 'Vršac': -4894.40168, 'Timişoara': -4777.49346, 'Drobeta-Turnu Severin': -4653.28236, 'Craiova': -4450.1526, 'Alexandria': -4285.02402, 'Razgrad': -3964.0647599999998, 'Shumen': -3886.3077200000002, 'Varna': -3872.38162, 'Ordu': -2225.74666, 'Giresun': -2345.12352, 'Trabzon': -2480.8062999999997, 'Batumi': -2640.1573, 'Lisbon': -8287.94632, 'Valladolid': -8150.37618, 'Toulouse': -7596.70796, 'Nice': -7593.87356, 'Sofia': -4496.1078, 'Plovdiv': -4240.54574, 'Istanbul': -3985.94896, 'İzmit': -3737.9256600000003, 'Gerede': -3572.7609, 'Amasya': -3456.8720000000003, 'Erzurum': -3347.37938, 'Gürbulak': -3249.74336, 'Iran': -3168.09524, 'Mazara del Vallo': -4699.52826, 'Palermo': -4628.0917, 'Reggio Calabria': -8236.39614, 'Metaponto': -8141.43344, 'Taranto': -8075.9857, 'Ioannina': -4608.286480000001, 'Gelibolu': -3984.7219800000003, 'Lapseki': -3510.58126, 'Bursa': -3574.14282, 'Ankara': -3400.22212, 'Adana': -3258.54688, 'Nusaybin': -3133.0034800000003, 'Khabur River': -3024.22646, 'Iraq': -2933.17866, 'Larne': -4692.813120000001, 'Belfast': -4743.4245, 'Newry': -4798.77244, 'Dundalk': -4853.04738, 'Drogheda': -4915.2092600000005, 'Pontevedra': -8316.4579, 'Valença': -8436.06308, 'Porto': -8509.908039999998, 'Albufeira': -8380.52922, 'Castro Marim': -8425.563820000001, 'Huelva': -8345.85808, 'Cherbourg-Octeville': -7382.52312, 'La Rochelle': -7540.57058, 'Trelleborg': -5290.689740000001, 'Oslo': -4702.9276, 'Hamar': -4544.879739999999, 'Lillehammer': -4397.47622, 'Dombås': -4256.899920000001, 'Trondheim': -4251.06884, 'Stjørdal': -4170.25748, 'Steinkjer': -4118.1696, 'Mosjøen': -4104.446099999999, 'Mo i Rana': -4112.40474, 'Rognan': -4011.31656, 'Fauske': -3922.72504, 'Ballangen': -4246.8199, 'Setermoen': -4324.6094, 'Alta': -4318.31816, 'Olderfjord': -4309.8717400000005, 'Lakselv': -4284.82314, 'Karasjok': -4252.3977, 'Pau, Pyrénées-Atlantiques': -8447.2802, 'Jaca': -8361.06824, 'Zaragoza': -8255.9484, 'Vierzon': -7096.1819000000005, 'Montluçon': -7247.17172, 'Montpellier': -7481.94476, 'Doncaster': -6283.93812, 'Sheffield': -6210.2791799999995, 'Nottingham': -6123.6087, 'Leicester': -6027.15186, 'Northampton': -5917.268080000001, 'Antwerp': -7112.939240000001, 'Martigny': -7134.3844, 'Sarreguemines': -6529.66744, 'Ludwigshafen': -7245.5577, 'La Spezia': -7371.00462, 'Bremen': -6390.43962, 'Orkanger': -4176.76058, 'Vinjeøra': -4114.19854, 'Halsa': -4046.47002, 'Straumsnes': -3976.64544, 'Kristiansund Mainland Connection': -3906.1737399999997, 'Batnfjordsøra': -3836.95358, 'Molde': -3772.4233, 'Vestnes': -3655.71754, 'Skodje': -3734.67672, 'Ålesund': -3819.2652599999997, 'Volda': -3729.712, 'Nordfjordeid': -3647.0294, 'Sandane': -4829.27422, 'Førde': -4892.25488, 'Lavik': -4954.75972, 'Instefjord': -5738.8656200000005, 'Knarvik': -5673.39466, 'Bergen': -5608.66026, 'Os': -5684.90008, 'Stord': -3323.0324, 'Sveio': -3344.16936, 'Aksdal': -3367.1521599999996, 'Bokn': -3390.62806, 'Rennesøy': -3685.6381800000004, 'Randaberg': -3768.57874, 'Stavanger': -3859.5665, 'Sandnes': -3953.70356, 'Helleland': -4047.3817, 'Flekkefjord': -4137.93328, 'Lyngdal': -4221.65526, 'Mandal': -4296.0177, 'Kristiansand': -4358.63002, 'Hirtshals': -6615.163060000001, 'Hjørring': -6546.54396, 'Nørresundby': -6468.9971399999995, 'Dortmund': -6497.390539999999, 'Aschaffenburg': -6487.805039999999, 'Stuttgart': -6525.11696, 'Schaffhausen': -6621.073179999999, 'Ulm': -6434.8064, 'Lindau': -6518.00042, 'Buchs': -6832.01782, 'Chur': -6907.17648, 'San Bernardino': -6995.4610600000005, 'Rødby': -5855.34188, 'Puttgarden': -5965.13788, 'Oldenburg in Holstein': -5988.7631, 'Lübeck': -6015.91522, 'Halle': -6107.481059999999, 'Plauen': -6044.58388, 'Schönberg': -5995.9126, 'Vojtanov': -5967.90542, 'Cheb': -5956.141, 'Karlovy Vary': -5870.8141, 'České Budějovice': -5814.08364, 'Halámky': -5709.908579999999, 'Leipzig': -5905.42276, 'Hirschberg': -6002.57312, 'Hof': -6091.66002, 'Bayreuth': -6168.99162, 'Bayerisch Eisenstein': -6063.72956, 'Deggendorf': -6203.95006, 'Liezen': -5966.382860000001, 'Sankt Michael': -5857.7391800000005, 'Graz': -5753.236239999999, 'Maribor': -5717.55264, 'Spielfeld': -5712.6258, 'Karavanke Tunnel': -6072.761200000001, 'Naklo': -5963.074439999999, 'Kemijärvi': -3847.2264, 'Posio': -3736.2752, 'Kuusamo': -3633.40532, 'Kajaani': -3574.0916199999997, 'Iisalmi': -3593.67366, 'Kuopio': -3662.27886, 'Tampere': -3836.2935399999997, 'Turku': -3911.3044800000002, 'Riga': -4683.9154, 'Kłodzko': -5449.649380000001, 'Kudowa-Zdrój': -5480.77118, 'Náchod': -5528.20818, 'Hradec Králové': -5600.69202, 'Nordkapp': -4376.56698, 'Miskolc': -5037.189920000001, 'Balatonvilágos': -5295.74676, 'Knin': -5672.87574, 'Szekszárd': -5169.4133, 'Mohács': -5198.54456, 'Osijek': -5220.75322, 'Đakovo': -5302.4520600000005, 'Šamac': -5379.66638, 'Zenica': -5427.24398, 'Mostar': -5441.5221599999995, 'Metković': -5448.028200000001, 'Šiauliai': -4834.87494, 'Tolpaki': -4993.28566, 'Kaliningrad': -5122.03718, 'Elbląg': -5183.0059200000005, 'Radom': -5123.5696800000005, 'Trstená': -5153.14726, 'Ružomberok': -5161.0138799999995, 'Zvolen': -5172.64874, 'Debrecen': -4930.35344, 'Berettyóújfalu': -4825.62794, 'Beiuş': -4684.27808, 'Deva': -4635.39674, 'Petroşani': -4601.0118999999995, 'Târgu Jiu': -4539.2408, 'Calafat': -4411.80042, 'Vidin': -4447.21666, 'Vraca': -4395.795279999999, 'Botevgrad': -4363.82692, 'Blagoevgrad': -4449.63652, 'Serres': -4408.49652, 'Halmeu': -4550.25684, 'Satu Mare': -4621.081399999999, 'Zalău': -4575.2276600000005, 'Sebeş': -4473.196040000001, 'Sibiu': -4469.5093799999995, 'Piteşti': -4337.266739999999, 'Pleven': -4146.17138, 'Jablanica': -4246.45704, 'Izmail': -4040.6015, 'Reni': -4010.66302, 'Galaţi': -3976.94152, 'Tulcea': -3949.3210799999997, 'Burgas': -3795.6382999999996, 'Malko Tarnovo': -3709.624, 'Dereköy': -3693.37476, 'Kırklareli': -3723.00344, 'Babaeski': -3778.0330000000004, 'Havsa': -3840.2754, 'Keşan': -3902.82048, 'Ayvalık': -3840.10644, 'İzmir': -3685.27874, 'Selçuk': -3625.20864, 'Aydın': -3560.69, 'Denizli': -3492.5351, 'Acıpayam': -3421.80902, 'Korkuteli': -3353.21682, 'Antalya': -3291.09904, 'Kızılcahamam': -3472.4855, 'Toprakkale': -5435.71314, 'İskenderun': -5354.77374, 'Antakya': -5271.60512, 'Yayladağı': -5187.01468, 'Syria': -5108.9472000000005, 'Kherson': -3759.63578, 'Dzhankoy': -3710.2400599999996, 'Sochi': -3507.77178, 'Sukhumi': -3321.7396, 'Zugdidi': -3140.7153000000003, 'Şanlıurfa': -1085.62032, 'Diyarbakır': -1170.32746, 'Bitlis': -1263.16992, 'Doğubeyazit': -1360.3209000000002, 'Iğdir': -1463.7809, 'Dilucu': -1572.63068, 'Sadarak': -1687.32988, 'Jönköping': -5074.343919999999, 'Linköping': -5053.84626, 'Norrköping': -5013.2074600000005, 'Södertälje': -4867.0553, 'Uppsala': -4575.567279999999, 'Sundsvall': -4421.6815799999995, 'Örnsköldsvik': -4310.8484, 'Umeå': -4188.74786, 'Haparanda': -4013.34416, 'Tornio': -3915.11442, 'Tromsø': -3490.91768, 'Nordkjosbotn': -3559.86576, 'Skibotn': -3638.60296, 'Kilpisjärvi': -3724.65082, 'Kolari': -3816.9858200000003, 'Kokkola': -3828.8088, 'Vaasa': -3845.69504, 'Pori': -3919.67638, 'Hämeenlinna': -3878.76274, 'Derry': -4665.84262, 'Arna': -5507.22062, 'Voss': -5406.9209599999995, 'Lærdal': -5301.7199200000005, 'Tyin': -5192.78452, 'Fagernes': -5079.412920000001, 'Hønefoss': -4961.190140000001, 'Sandvika': -4835.07364, 'Craigavon': -4807.52464, 'Stranraer': -5823.93728, 'Gretna': -5815.10064, 'Carlisle': -5811.22138, 'Arendal': -4411.48098, 'Porsgrunn': -4457.874720000001, 'Larvik': -4502.623640000001, 'Sandefjord': -4551.167, 'Horten': -4608.677659999999, 'Drammen': -4682.212579999999, 'Askim': -4761.43038, 'Karlstad': -4790.40874, 'Västerås': -4811.66012, 'Stockholm/Kapellskär': -4886.63092, 'Turku/Naantali': -3820.15348, 'Kotka': -3991.43606, 'Vaalimaa': -4083.96418, 'Vyborg': -4180.35736, 'Holyhead': -6656.31558, 'Chester': -6592.67828, 'Warrington': -6532.42512, 'Immingham': -6239.977559999999, 'Groningen': -6589.082259999999, 'Sassnitz': -5874.7092, 'Kalmar': -5145.52838, 'Ventspils': -4701.57114, 'Rēzekne': -4545.81478, 'Velikiye Luki': -4361.861959999999, 'Vladimir': -4043.52004, 'Nizhny Novgorod': -3886.0294, 'Kazan': -3728.59068, 'Yelabuga': -3570.1088, 'Perm': -3471.74386, 'Yekaterinburg': -3369.0625600000003, 'Tyumen': -3252.8592, 'Cambridge': -5574.92742, 'Koszalin': -5480.10232, 'Słupsk': -5375.715920000001, 'Gdynia': -5294.90966, 'Nesterov': -5012.67822, 'Marijampolė': -4966.88364, 'Harwich': -5593.0235, 'Zeebrugge': -6983.33794, 'Venlo': -6847.72362, 'Cottbus': -5681.8449, 'Kursk': -4020.7669800000003, 'Saratov': -3661.2451199999996, 'Aktobe': -3265.1128400000002, 'Karabutak': -3098.8032200000002, 'Aral': -2938.03392, 'Novokazalinsk': -2785.67846, 'Dunkirk': -7558.15416, 'Lille': -7479.9647, 'Mons': -7375.36182, 'Charleroi': -7242.4745, 'Namur': -7194.7042, 'St. Vith': -6955.69964, 'Wittlich': -6821.23962, 'Bingen': -6717.03438, 'Wiesbaden': -6620.933059999999, 'Amiens': -7136.27978, 'Charleville-Mézières': -7077.57738, 'Trier': -6823.276639999999, 'Koblenz': -6685.4558, 'Caen': -7183.36968, 'Rouen': -6930.0552800000005, 'Schweinfurt': -6241.89686, 'Marktredwitz': -6065.12886, 'Appenweier': -6748.33192, 'Chaumont': -6992.41944, 'Waldshut': -6680.870040000001, 'Regensburg': -6232.008559999999, 'Passau': -6154.70788, 'Wels': -6104.544080000001, 'Iaşi': -4207.957399999999, 'Sculeni': -4078.5178, 'Chişinău': -3962.99834, 'Mykolaiv': -3904.69324, 'Melitopol': -3632.40432, 'Taganrog': -3517.96828, 'Poitiers': -6661.701940000001, 'Mâcon': -6856.67764, 'Sion': -7185.855680000001, 'Simplon': -7231.184899999999, 'Gravellona Toce': -7276.2661, 'Innichen': -6458.837960000001, 'Spittal an der Drau': -6307.4644, 'Klagenfurt': -5953.36578, 'Veszprém': -5799.3605800000005, 'Székesfehérvár': -5827.07334, 'Arad': -4792.4747800000005, 'Cuneo': -7630.160919999999, 'Asti': -7586.9920999999995, 'Pisa': -7587.87334, 'Migliarino': -7530.94282, 'Grosseto': -7531.99032, 'Arezzo': -7517.9788, 'Sansepolcro': -7505.11298, 'Vila Real': -8731.1423, 'Bragança': -8910.67204, 'Zamora': -9018.45404, 'Tordesillas': -9109.130079999999, 'Tekirdağ': -3840.56962, 'Silivri': -3776.22464, 'Kristalopigi': -6596.00946, 'Florina': -6587.73782, 'Vévi': -6570.90456, 'Géfira': -6548.61716, 'Yozgat': -3299.7544, 'Sivas': -3206.9842999999996, 'Refahiye': -3126.65834, 'Trikala': -4512.45264, 'Volos': -4434.2734, 'Megara': -5004.795340000001, 'Attiki Odos': -4993.3302, 'Usak': -3565.68754, 'Afyonkarahisar': -3459.8124000000003, 'Sivrihisar': -3372.61614, 'Topboğazi': -6291.75624, 'Kırıkhan': -6271.27942, 'Reyhanlı': -6252.47826, 'Cilvegözü': -6239.0136, 'Sadakhlo': -2226.0449000000003, 'Bagratashen': -2117.55556, 'Vanadzor': -2028.23626, 'Saatly Rayon': -2373.95724, 'Mehgri': -2217.89668, 'Ordubad': -2072.40072, 'Djulfa': -1934.96132, 'Nakhchivan': -1807.14454, 'Uchkuduk': -2397.33864, 'Gaudan': -2312.0719799999997, 'Kzylorda': -2447.8252399999997, 'Guza': -2338.95626, 'Kokand': -2167.22368, 'Andijan': -2156.21486, 'Osh': -2160.4363000000003, 'Kulob': -1795.3774, 'Kalaikhumb': -1707.56618, 'Khorugh': -1684.27512, 'Murghab': -1637.2444600000001, 'Kulma': -1591.7102, 'Ishkoshim': -1558.25848, 'Lyanga': -1452.1636, 'China': -1363.7975, 'Kokpek': -2272.08306, 'Kegen': -2167.1012, 'Tyup': -2092.00064, 'Chundzha': -2275.00674, 'Koktal': -2336.79492, 'Khorgas': -2306.8918, 'Usharal': -6385.36282, 'Druzhba': -6455.2223, 'Bakhty': -2657.91184, 'Zapadnoe': -3129.04484, 'Zhaksy': -3090.2829399999996, 'Atbasar': -3037.6393, 'Uspenovka': -2851.76696, 'Petropavl': -3158.0371999999998, 'Haugesund': -4930.89634, 'Røldal': -4890.956700000001, 'Haukeli': -4846.87, 'Seljord': -4797.60864, 'Kongsberg': -4744.08462, 'Tresfjord': -3952.0831, 'Åndalsnes': -4093.31612, 'Portlaoise': -5246.68854, 'Hoogeveen': -6632.4171, 'Haselünne': -6641.35318, 'Cloppenburg': -6655.9106, 'Cuxhaven': -6367.35322, 'Bremerhaven': -6376.3204399999995, 'Walsrode': -6319.36568, 'Stralsund': -5803.02084, 'Neubrandenburg': -5824.50594, 'Ukmergė': -4799.13674, 'Daugavpils': -4670.31782, 'Ostrov': -4541.7017, 'Tartu': -4626.67158, 'Võru': -4691.5053, 'Luhamaa': -4744.94534, 'Jõhvi': -4713.89894, 'Valga': -4577.530580000001, 'Valka': -4540.476479999999, 'Valmiera': -4505.3085599999995, 'Incukalns': -4468.884840000001, 'Keila': -4533.3061800000005, 'Paldiski': -4477.89406, 'Babruysk': -4735.318880000001, 'Palanga': -4903.49452, 'Panevėžys': -4793.89678, 'Breda': -7038.70896, 'Gorinchem': -6935.9081, 'Flushing': -7075.48218, 'Hasselt': -6888.6525, 'Heerlen': -6801.56896, 'Barwinek': -5011.79564, 'Vyšný Komárnik': -5010.6574200000005, 'Svidník': -5048.3673, 'Lublin': -4886.5045, 'Kovel': -4686.91654, 'Trosna': -4953.0289999999995, 'Glukhkov': -4905.16858, 'Saint-Brieuc': -7291.6624600000005, 'Roeselare': -6633.5239, 'Kortrijk': -6431.78248, 'Tournai': -6259.57914, 'Jabbeke': -7031.18378, 'Nivelles': -7342.73094, 'Eynatten': -6941.4459, 'Teplice': -5774.96944, 'Olomouc': -5463.85092, 'Svitavy': -5518.204919999999, 'Český Těšín': -5372.519740000001, 'Courtney': -7903.56176, 'Troyes': -7841.49092, 'Remiremont': -6945.22144, 'Donaueschingen': -6735.0918, 'Memmingen': -3095.07356, 'Füssen': -3055.87294, 'Garmisch-Partenkirchen': -6411.311119999999, 'Mittenwald': -6470.4762599999995, 'Seefeld': -6505.6485, 'Humpolec': -5821.7663999999995, 'Braunau am Inn': -6223.27876, 'Žiar nad Hronom': -5268.1230000000005, 'Nyíregyháza': -4807.7937999999995, 'Chop': -4797.01638, 'Bacău': -4404.01628, 'Dunajská Streda': -5331.28606, 'Medveďov': -5308.549099999999, 'Vámosszabadi': -5235.353800000001, 'Dej': -4573.71358, 'Buzău': -4172.66136, 'Sărăţel': -5721.93706, 'Reghin': -5643.45892, 'Topliţa': -5559.61532, 'Gheorgheni': -5474.01192, 'Miercurea-Ciuc': -5389.356860000001, 'Sfântu Gheorghe': -5306.01152, 'Chichiş': -5225.99494, 'Tişiţa': -3525.61184, 'Tecuci': -3612.23316, 'Albiţa': -3713.42608, 'Leuşeni': -3830.36076, 'Săbăoani': -4159.653740000001, 'Bălţi': -4206.56922, 'Mohyliv-Podilskyi': -4206.13104, 'Poltava': -3791.2409000000002, 'Giurgiuleşti': -3942.4847800000002, 'Krasnodar': -3082.60264, 'Djoubga': -3136.4622600000002, 'Niort': -7626.17952, 'Saintes': -7623.780339999999, 'Angoulême': -7637.20572, 'Limoges': -7730.463559999999, 'Digoin': -5623.52832, 'Chalon-sur-Saône': -5696.61358, \"Pont-d'Ain\": -7325.2543399999995, 'St. Johann in Tirol': -6330.23246, 'Lofer': -6238.8229, 'Altenmarkt im Pongau': -6010.87268, 'Loiblpass': -5966.7754, 'Torniyiszentmiklós': -5487.5997800000005, 'Balatonkeresztúr': -6081.02128, 'Nagyatád': -6021.90114, 'Barcs': -5956.676619999999, 'Virovitica': -5886.77778, 'Okučani': -5812.22456, 'Banja Luka': -5732.484600000001, 'Jajce': -5653.12712, 'Donji Vakuf': -5551.87704, 'Sombor': -5124.52264, 'Lugoj': -3726.1196800000002, 'Ilia': -3798.0710599999998, 'Negru Vodă': -3715.97008, 'Kardam': -3621.28306, 'Ashtarak': -7005.4421600000005, 'Gyumri': -6972.82674, 'Ashotsk': -6948.2297, 'Akhalkalaki': -6938.4560200000005, 'Akhaltsikhe': -6948.88172, 'Vale, Georgia': -6987.63406, 'Türkgözü': -7056.05026, 'Posof': -7138.76198, 'Kars': -7223.56618, 'Horasan': -7302.20512, 'Supsa': -2894.40246, 'Lanchkhuti': -2901.24102, 'Grenoble': -7399.4470200000005, 'Marseille': -7378.56988, 'Valence': -7499.83984, 'Savona': -7398.59374, 'Pula': -5884.72112, 'Koper': -5925.43794, 'Bihać': -5735.37576, 'Sarajevo': -5291.47616, 'Užice': -5195.66176, 'Čačak': -5094.0125800000005, 'Kraljevo': -5108.74526, 'Kruševac': -5136.65606, 'Pojate': -5168.40578, 'Paraćin': -5200.75134, 'Zaječar': -5230.74772, 'Nova Varoš': -5015.7678399999995, 'Yablanitsa': -3941.19096, 'Popovica': -3777.3111400000003, 'Coimbra': -8800.85398, 'Viseu': -8768.57068, 'Chaves': -8824.92058, 'Verín': -8851.90224, 'Guarda': -9035.33806, 'Castelo Branco': -9153.879659999999, 'Portalegre': -9274.03046, 'Évora': -9377.7562, 'Beja': -9466.02742, 'Ourique': -9540.1026, 'Salamanca': -8449.15296, 'Mérida': -8358.05874, 'Logroño': -8135.7916, 'Famalicão': -8918.84932, 'Torres Novas': -9187.51382, 'Abrantes': -9167.97998, 'San Cesareo': -7684.031840000001, 'Olbia': -6206.28068, 'Avellino': -7831.05994, 'Benevento': -7840.46224, 'Spezzano Albanese': -3900.9754199999998, 'Sybaris': -3836.81942, 'Crotone': -8169.304099999999, 'Potenza': -8091.3640000000005, \"Sant'Eufemia Lamezia\": -5968.65906, 'Catanzaro': -6031.0073600000005, 'Prizren': -5110.31286, 'Kyustendil': -4614.687199999999, 'Balıkesir': -3594.14658, 'Manisa': -3628.17486, 'Çeşme': -3733.61504, 'Jaén': -8488.00902, 'Granada': -8430.63628, 'Buonfornello': -4382.01194, 'Enna': -4451.1469400000005, 'Alcamo': -4038.4151800000004, 'Trapani': -3965.80874, 'Arta': -4719.7984799999995, 'Agrinio': -4820.30196, 'Messolonghi': -4905.8483400000005, 'Aktio': -4352.763419999999, 'Vonitsa': -4355.2374199999995, 'Amfilochia': -4353.86484, 'Karpenisi': -4345.05948, 'Sparti': -5233.66106, 'Gytheio': -5309.47792, 'Eleusina': -5154.23252, 'Thebes': -5229.70958}\n"
          ],
          "name": "stdout"
        }
      ]
    },
    {
      "cell_type": "markdown",
      "metadata": {
        "id": "pYYlLpQy_5rZ"
      },
      "source": [
        "Exportar o grafo criado em um arquivo para ser lido no Gephi."
      ]
    },
    {
      "cell_type": "code",
      "metadata": {
        "id": "dCaTzOvd_1QL"
      },
      "source": [
        "nx.write_graphml(G, \"euroroad.graphml\")"
      ],
      "execution_count": 145,
      "outputs": []
    },
    {
      "cell_type": "markdown",
      "metadata": {
        "id": "B0hYjF4ueMwz"
      },
      "source": [
        "# 2.0 - Calculando algumas métricas"
      ]
    },
    {
      "cell_type": "markdown",
      "metadata": {
        "id": "1wbRcKL6XS09"
      },
      "source": [
        "Inicialmente, calculando o grau do nó \"Moscow\" (maior de todos)"
      ]
    },
    {
      "cell_type": "code",
      "metadata": {
        "colab": {
          "base_uri": "https://localhost:8080/"
        },
        "id": "-F28rsZTeLwV",
        "outputId": "89da920f-67ed-4942-bb86-4552214fa93f"
      },
      "source": [
        "ego = \"London\"\n",
        "\n",
        "alters_1 = G[ego]\n",
        "nx.degree(G,ego)"
      ],
      "execution_count": 172,
      "outputs": [
        {
          "output_type": "execute_result",
          "data": {
            "text/plain": [
              "5"
            ]
          },
          "metadata": {
            "tags": []
          },
          "execution_count": 172
        }
      ]
    },
    {
      "cell_type": "markdown",
      "metadata": {
        "id": "DojAz0oBWa7g"
      },
      "source": [
        "Calcular o valor do *clustering* do nosso grafo."
      ]
    },
    {
      "cell_type": "code",
      "metadata": {
        "colab": {
          "base_uri": "https://localhost:8080/"
        },
        "id": "Og9DIZwyXwh9",
        "outputId": "ec1ebc78-8f9e-4bbb-b199-7ad2aae18e29"
      },
      "source": [
        "acc = nx.average_clustering(G)\n",
        "acc"
      ],
      "execution_count": 176,
      "outputs": [
        {
          "output_type": "execute_result",
          "data": {
            "text/plain": [
              "0.016731564857629593"
            ]
          },
          "metadata": {
            "tags": []
          },
          "execution_count": 176
        }
      ]
    },
    {
      "cell_type": "markdown",
      "metadata": {
        "id": "IyQ6PgFqknPJ"
      },
      "source": [
        "Computando o histograma que relaciona o coeficiente de clustering com a frequência."
      ]
    },
    {
      "cell_type": "code",
      "metadata": {
        "colab": {
          "base_uri": "https://localhost:8080/",
          "height": 279
        },
        "id": "NGI_ZEvIh-s9",
        "outputId": "ac07dfce-da3c-4c9f-a182-002991305c42"
      },
      "source": [
        "cc_values = nx.clustering(nx.Graph(G)).values()\n",
        "plot = plt.hist(cc_values, 5, facecolor='green', alpha=0.75)\n",
        "plt.xlabel('Clustering')\n",
        "plt.ylabel('Frequency')\n",
        "plt.show()"
      ],
      "execution_count": 180,
      "outputs": [
        {
          "output_type": "display_data",
          "data": {
            "image/png": "[encoded data removed]",
            "text/plain": [
              "<Figure size 432x288 with 1 Axes>"
            ]
          },
          "metadata": {
            "tags": [],
            "needs_background": "light"
          }
        }
      ]
    },
    {
      "cell_type": "markdown",
      "metadata": {
        "id": "qCXvFlfOkuJH"
      },
      "source": [
        "Degree vs Clustering scatter plot"
      ]
    },
    {
      "cell_type": "code",
      "metadata": {
        "colab": {
          "base_uri": "https://localhost:8080/",
          "height": 279
        },
        "id": "71Rnpy6Kkw_i",
        "outputId": "e8a949e6-6eea-43b6-f12e-eeb65206da5f"
      },
      "source": [
        "x = [val for (node, val) in G.degree()]\n",
        "y = nx.clustering(nx.Graph(G)).values()\n",
        "\n",
        "plot = plt.scatter(x, y, alpha=0.8)\n",
        "plt.xlabel('Degree')\n",
        "plt.ylabel('Clustering')\n",
        "plt.show()\n"
      ],
      "execution_count": 181,
      "outputs": [
        {
          "output_type": "display_data",
          "data": {
            "image/png": "[encoded data removed]",
            "text/plain": [
              "<Figure size 432x288 with 1 Axes>"
            ]
          },
          "metadata": {
            "tags": [],
            "needs_background": "light"
          }
        }
      ]
    }
  ]
}